{
 "cells": [
  {
   "cell_type": "code",
   "execution_count": 1,
   "metadata": {},
   "outputs": [],
   "source": [
    "from tensorflow import keras as ks\n",
    "\n",
    "(x_train, y_train), (x_test, y_test) = ks.datasets.boston_housing.load_data()"
   ]
  },
  {
   "cell_type": "code",
   "execution_count": 2,
   "metadata": {},
   "outputs": [
    {
     "name": "stderr",
     "output_type": "stream",
     "text": [
      "2021-08-26 17:36:36.412554: I tensorflow/core/platform/cpu_feature_guard.cc:142] This TensorFlow binary is optimized with oneAPI Deep Neural Network Library (oneDNN) to use the following CPU instructions in performance-critical operations:  AVX2 FMA\n",
      "To enable them in other operations, rebuild TensorFlow with the appropriate compiler flags.\n",
      "2021-08-26 17:36:36.419416: I tensorflow/compiler/xla/service/service.cc:169] XLA service 0x7fbb27d8da20 initialized for platform Host (this does not guarantee that XLA will be used). Devices:\n",
      "2021-08-26 17:36:36.419431: I tensorflow/compiler/xla/service/service.cc:177]   StreamExecutor device (0): Host, Default Version\n",
      "2021-08-26 17:36:36.804975: I tensorflow/compiler/mlir/mlir_graph_optimization_pass.cc:176] None of the MLIR Optimization Passes are enabled (registered 2)\n"
     ]
    },
    {
     "name": "stdout",
     "output_type": "stream",
     "text": [
      "Epoch 1/50\n",
      "13/13 [==============================] - 0s 945us/step - loss: 413.5520\n",
      "Epoch 2/50\n",
      "13/13 [==============================] - 0s 1ms/step - loss: 264.7401\n",
      "Epoch 3/50\n",
      "13/13 [==============================] - 0s 1ms/step - loss: 196.9658\n",
      "Epoch 4/50\n",
      "13/13 [==============================] - 0s 1ms/step - loss: 157.6720\n",
      "Epoch 5/50\n",
      "13/13 [==============================] - 0s 949us/step - loss: 132.2813\n",
      "Epoch 6/50\n",
      "13/13 [==============================] - 0s 1ms/step - loss: 114.4671\n",
      "Epoch 7/50\n",
      "13/13 [==============================] - 0s 1ms/step - loss: 102.2315\n",
      "Epoch 8/50\n",
      "13/13 [==============================] - 0s 903us/step - loss: 95.7760\n",
      "Epoch 9/50\n",
      "13/13 [==============================] - 0s 1ms/step - loss: 92.0268\n",
      "Epoch 10/50\n",
      "13/13 [==============================] - 0s 1ms/step - loss: 88.6542\n",
      "Epoch 11/50\n",
      "13/13 [==============================] - 0s 967us/step - loss: 85.2093\n",
      "Epoch 12/50\n",
      "13/13 [==============================] - 0s 1ms/step - loss: 81.4761\n",
      "Epoch 13/50\n",
      "13/13 [==============================] - 0s 921us/step - loss: 78.2630\n",
      "Epoch 14/50\n",
      "13/13 [==============================] - 0s 1ms/step - loss: 74.9189\n",
      "Epoch 15/50\n",
      "13/13 [==============================] - 0s 999us/step - loss: 71.3176\n",
      "Epoch 16/50\n",
      "13/13 [==============================] - 0s 1ms/step - loss: 67.6075\n",
      "Epoch 17/50\n",
      "13/13 [==============================] - 0s 1ms/step - loss: 64.9518\n",
      "Epoch 18/50\n",
      "13/13 [==============================] - 0s 1ms/step - loss: 62.5892\n",
      "Epoch 19/50\n",
      "13/13 [==============================] - 0s 868us/step - loss: 61.6303\n",
      "Epoch 20/50\n",
      "13/13 [==============================] - 0s 1ms/step - loss: 58.6845\n",
      "Epoch 21/50\n",
      "13/13 [==============================] - 0s 1ms/step - loss: 57.9227\n",
      "Epoch 22/50\n",
      "13/13 [==============================] - 0s 968us/step - loss: 56.5056\n",
      "Epoch 23/50\n",
      "13/13 [==============================] - 0s 1ms/step - loss: 52.6940\n",
      "Epoch 24/50\n",
      "13/13 [==============================] - 0s 1ms/step - loss: 51.7763\n",
      "Epoch 25/50\n",
      "13/13 [==============================] - 0s 917us/step - loss: 49.5371\n",
      "Epoch 26/50\n",
      "13/13 [==============================] - 0s 1ms/step - loss: 48.1688\n",
      "Epoch 27/50\n",
      "13/13 [==============================] - 0s 950us/step - loss: 48.3552\n",
      "Epoch 28/50\n",
      "13/13 [==============================] - 0s 1ms/step - loss: 45.3496\n",
      "Epoch 29/50\n",
      "13/13 [==============================] - 0s 1ms/step - loss: 45.4460\n",
      "Epoch 30/50\n",
      "13/13 [==============================] - 0s 887us/step - loss: 44.7289\n",
      "Epoch 31/50\n",
      "13/13 [==============================] - 0s 1ms/step - loss: 43.4877\n",
      "Epoch 32/50\n",
      "13/13 [==============================] - 0s 899us/step - loss: 43.7233\n",
      "Epoch 33/50\n",
      "13/13 [==============================] - 0s 1ms/step - loss: 41.6791\n",
      "Epoch 34/50\n",
      "13/13 [==============================] - 0s 877us/step - loss: 40.2270\n",
      "Epoch 35/50\n",
      "13/13 [==============================] - 0s 1ms/step - loss: 40.0444\n",
      "Epoch 36/50\n",
      "13/13 [==============================] - 0s 1ms/step - loss: 39.2733\n",
      "Epoch 37/50\n",
      "13/13 [==============================] - 0s 863us/step - loss: 39.5453\n",
      "Epoch 38/50\n",
      "13/13 [==============================] - 0s 1ms/step - loss: 39.1204\n",
      "Epoch 39/50\n",
      "13/13 [==============================] - 0s 1ms/step - loss: 38.9500\n",
      "Epoch 40/50\n",
      "13/13 [==============================] - 0s 1ms/step - loss: 37.3809\n",
      "Epoch 41/50\n",
      "13/13 [==============================] - 0s 1ms/step - loss: 36.8674\n",
      "Epoch 42/50\n",
      "13/13 [==============================] - 0s 2ms/step - loss: 37.9822\n",
      "Epoch 43/50\n",
      "13/13 [==============================] - 0s 1ms/step - loss: 37.3172\n",
      "Epoch 44/50\n",
      "13/13 [==============================] - 0s 1ms/step - loss: 35.8866\n",
      "Epoch 45/50\n",
      "13/13 [==============================] - 0s 1ms/step - loss: 35.2476\n",
      "Epoch 46/50\n",
      "13/13 [==============================] - 0s 1ms/step - loss: 37.6228\n",
      "Epoch 47/50\n",
      "13/13 [==============================] - 0s 987us/step - loss: 34.8829\n",
      "Epoch 48/50\n",
      "13/13 [==============================] - 0s 1ms/step - loss: 34.5417\n",
      "Epoch 49/50\n",
      "13/13 [==============================] - 0s 1ms/step - loss: 34.7488\n",
      "Epoch 50/50\n",
      "13/13 [==============================] - 0s 1ms/step - loss: 36.4395\n"
     ]
    },
    {
     "data": {
      "text/plain": [
       "<tensorflow.python.keras.callbacks.History at 0x7fbb2f407760>"
      ]
     },
     "execution_count": 2,
     "metadata": {},
     "output_type": "execute_result"
    }
   ],
   "source": [
    "model = ks.models.Sequential()\n",
    "model.add(ks.layers.Dense(13, activation=ks.activations.relu, kernel_initializer='normal', activity_regularizer=ks.regularizers.l2()))\n",
    "model.add(ks.layers.Dense(8, activation=ks.activations.relu, kernel_initializer='normal', activity_regularizer=ks.regularizers.l2()))\n",
    "model.add(ks.layers.Dense(1))\n",
    "\n",
    "model.compile(loss='mean_squared_error', optimizer='adam')\n",
    "model.fit(x=x_train, y=y_train, batch_size=32, epochs=50)"
   ]
  },
  {
   "cell_type": "code",
   "execution_count": 3,
   "metadata": {},
   "outputs": [
    {
     "name": "stdout",
     "output_type": "stream",
     "text": [
      "4/4 [==============================] - 0s 1ms/step - loss: 39.7383\n",
      "Test\n",
      "MSQE: 39.738277\n",
      "RMSQE: 6.303830\n"
     ]
    }
   ],
   "source": [
    "from math import sqrt\n",
    "test_loss = model.evaluate(x=x_test, y=y_test)\n",
    "\n",
    "print('Test')\n",
    "print('MSQE: %6.6f' % test_loss)\n",
    "print('RMSQE: %6.6f' % sqrt(test_loss))"
   ]
  },
  {
   "cell_type": "code",
   "execution_count": null,
   "metadata": {},
   "outputs": [],
   "source": []
  }
 ],
 "metadata": {
  "kernelspec": {
   "display_name": "Python 3 (ipykernel)",
   "language": "python",
   "name": "python3"
  },
  "language_info": {
   "codemirror_mode": {
    "name": "ipython",
    "version": 3
   },
   "file_extension": ".py",
   "mimetype": "text/x-python",
   "name": "python",
   "nbconvert_exporter": "python",
   "pygments_lexer": "ipython3",
   "version": "3.8.11"
  }
 },
 "nbformat": 4,
 "nbformat_minor": 4
}
