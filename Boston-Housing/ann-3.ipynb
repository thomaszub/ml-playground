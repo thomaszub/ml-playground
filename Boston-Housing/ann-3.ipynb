{
 "cells": [
  {
   "cell_type": "code",
   "execution_count": 2,
   "metadata": {},
   "outputs": [],
   "source": [
    "import keras as ks\n",
    "from keras.datasets import boston_housing\n",
    "\n",
    "(x_train, y_train), (x_test, y_test) = boston_housing.load_data()"
   ]
  },
  {
   "cell_type": "code",
   "execution_count": 12,
   "metadata": {},
   "outputs": [
    {
     "name": "stdout",
     "output_type": "stream",
     "text": [
      "Epoch 1/50\n",
      "13/13 [==============================] - 0s 936us/step - loss: 672.9623\n",
      "Epoch 2/50\n",
      "13/13 [==============================] - 0s 999us/step - loss: 570.4450\n",
      "Epoch 3/50\n",
      "13/13 [==============================] - 0s 1ms/step - loss: 437.5960\n",
      "Epoch 4/50\n",
      "13/13 [==============================] - 0s 1ms/step - loss: 410.1907\n",
      "Epoch 5/50\n",
      "13/13 [==============================] - 0s 1ms/step - loss: 335.8278\n",
      "Epoch 6/50\n",
      "13/13 [==============================] - 0s 1ms/step - loss: 313.6541\n",
      "Epoch 7/50\n",
      "13/13 [==============================] - 0s 912us/step - loss: 261.4306\n",
      "Epoch 8/50\n",
      "13/13 [==============================] - 0s 865us/step - loss: 220.3291\n",
      "Epoch 9/50\n",
      "13/13 [==============================] - 0s 1ms/step - loss: 223.2387\n",
      "Epoch 10/50\n",
      "13/13 [==============================] - 0s 1ms/step - loss: 187.4352\n",
      "Epoch 11/50\n",
      "13/13 [==============================] - 0s 1ms/step - loss: 169.8372\n",
      "Epoch 12/50\n",
      "13/13 [==============================] - 0s 846us/step - loss: 163.7856\n",
      "Epoch 13/50\n",
      "13/13 [==============================] - 0s 1ms/step - loss: 145.2928\n",
      "Epoch 14/50\n",
      "13/13 [==============================] - 0s 1ms/step - loss: 130.2774\n",
      "Epoch 15/50\n",
      "13/13 [==============================] - 0s 1ms/step - loss: 112.4693\n",
      "Epoch 16/50\n",
      "13/13 [==============================] - 0s 1ms/step - loss: 118.9713\n",
      "Epoch 17/50\n",
      "13/13 [==============================] - 0s 1ms/step - loss: 107.6563\n",
      "Epoch 18/50\n",
      "13/13 [==============================] - 0s 1ms/step - loss: 108.1012\n",
      "Epoch 19/50\n",
      "13/13 [==============================] - 0s 1ms/step - loss: 102.8116\n",
      "Epoch 20/50\n",
      "13/13 [==============================] - 0s 1ms/step - loss: 99.0033\n",
      "Epoch 21/50\n",
      "13/13 [==============================] - 0s 940us/step - loss: 88.9516\n",
      "Epoch 22/50\n",
      "13/13 [==============================] - 0s 1ms/step - loss: 100.2866\n",
      "Epoch 23/50\n",
      "13/13 [==============================] - 0s 1ms/step - loss: 98.5156\n",
      "Epoch 24/50\n",
      "13/13 [==============================] - 0s 935us/step - loss: 84.8478\n",
      "Epoch 25/50\n",
      "13/13 [==============================] - 0s 1ms/step - loss: 99.9401\n",
      "Epoch 26/50\n",
      "13/13 [==============================] - 0s 1ms/step - loss: 92.8009\n",
      "Epoch 27/50\n",
      "13/13 [==============================] - 0s 1000us/step - loss: 74.1127\n",
      "Epoch 28/50\n",
      "13/13 [==============================] - 0s 862us/step - loss: 83.8726\n",
      "Epoch 29/50\n",
      "13/13 [==============================] - 0s 1ms/step - loss: 86.9011\n",
      "Epoch 30/50\n",
      "13/13 [==============================] - 0s 1ms/step - loss: 96.5609\n",
      "Epoch 31/50\n",
      "13/13 [==============================] - 0s 819us/step - loss: 82.9638\n",
      "Epoch 32/50\n",
      "13/13 [==============================] - 0s 1ms/step - loss: 67.7413\n",
      "Epoch 33/50\n",
      "13/13 [==============================] - 0s 1ms/step - loss: 76.2539\n",
      "Epoch 34/50\n",
      "13/13 [==============================] - 0s 1ms/step - loss: 77.8799\n",
      "Epoch 35/50\n",
      "13/13 [==============================] - 0s 1ms/step - loss: 68.3606\n",
      "Epoch 36/50\n",
      "13/13 [==============================] - 0s 854us/step - loss: 80.5283\n",
      "Epoch 37/50\n",
      "13/13 [==============================] - 0s 1ms/step - loss: 69.2635\n",
      "Epoch 38/50\n",
      "13/13 [==============================] - 0s 1ms/step - loss: 76.0878\n",
      "Epoch 39/50\n",
      "13/13 [==============================] - 0s 949us/step - loss: 72.3994\n",
      "Epoch 40/50\n",
      "13/13 [==============================] - 0s 988us/step - loss: 63.9562\n",
      "Epoch 41/50\n",
      "13/13 [==============================] - 0s 1ms/step - loss: 62.4809\n",
      "Epoch 42/50\n",
      "13/13 [==============================] - 0s 864us/step - loss: 59.5032\n",
      "Epoch 43/50\n",
      "13/13 [==============================] - 0s 1ms/step - loss: 59.0459\n",
      "Epoch 44/50\n",
      "13/13 [==============================] - 0s 808us/step - loss: 59.8770\n",
      "Epoch 45/50\n",
      "13/13 [==============================] - 0s 1ms/step - loss: 62.3400\n",
      "Epoch 46/50\n",
      "13/13 [==============================] - 0s 1ms/step - loss: 56.0845\n",
      "Epoch 47/50\n",
      "13/13 [==============================] - 0s 885us/step - loss: 69.0937\n",
      "Epoch 48/50\n",
      "13/13 [==============================] - 0s 1ms/step - loss: 58.8677\n",
      "Epoch 49/50\n",
      "13/13 [==============================] - 0s 1ms/step - loss: 55.1814\n",
      "Epoch 50/50\n",
      "13/13 [==============================] - 0s 1ms/step - loss: 49.7833\n"
     ]
    },
    {
     "data": {
      "text/plain": [
       "<tensorflow.python.keras.callbacks.History at 0x7f920ad2f2b0>"
      ]
     },
     "execution_count": 12,
     "metadata": {},
     "output_type": "execute_result"
    }
   ],
   "source": [
    "model = ks.models.Sequential()\n",
    "model.add(ks.layers.Dense(13, activation=ks.activations.relu, kernel_initializer='normal', activity_regularizer=ks.regularizers.l2()))\n",
    "model.add(ks.layers.Dense(8, activation=ks.activations.relu, kernel_initializer='normal', activity_regularizer=ks.regularizers.l2()))\n",
    "model.add(ks.layers.Dense(1))\n",
    "\n",
    "model.compile(loss='mean_squared_error', optimizer='adam')\n",
    "model.fit(x=x_train, y=y_train, batch_size=32, epochs=50)"
   ]
  },
  {
   "cell_type": "code",
   "execution_count": 13,
   "metadata": {},
   "outputs": [
    {
     "name": "stdout",
     "output_type": "stream",
     "text": [
      "4/4 [==============================] - 0s 922us/step - loss: 61.1543\n",
      "Test\n",
      "MSQE: 61.154316\n",
      "RMSQE: 7.820123\n"
     ]
    }
   ],
   "source": [
    "from math import sqrt\n",
    "test_loss = model.evaluate(x=x_test, y=y_test)\n",
    "\n",
    "print('Test')\n",
    "print('MSQE: %6.6f' % test_loss)\n",
    "print('RMSQE: %6.6f' % sqrt(test_loss))"
   ]
  },
  {
   "cell_type": "code",
   "execution_count": null,
   "metadata": {},
   "outputs": [],
   "source": []
  }
 ],
 "metadata": {
  "kernelspec": {
   "display_name": "Python 3 (ipykernel)",
   "language": "python",
   "name": "python3"
  },
  "language_info": {
   "codemirror_mode": {
    "name": "ipython",
    "version": 3
   },
   "file_extension": ".py",
   "mimetype": "text/x-python",
   "name": "python",
   "nbconvert_exporter": "python",
   "pygments_lexer": "ipython3",
   "version": "3.8.10"
  }
 },
 "nbformat": 4,
 "nbformat_minor": 4
}
