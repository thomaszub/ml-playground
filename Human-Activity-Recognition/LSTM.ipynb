{
 "cells": [
  {
   "cell_type": "code",
   "execution_count": null,
   "metadata": {},
   "outputs": [],
   "source": [
    "from get_data import get_data\n",
    "\n",
    "\n",
    "get_data()"
   ]
  },
  {
   "cell_type": "code",
   "execution_count": null,
   "metadata": {},
   "outputs": [],
   "source": [
    "import numpy as np\n",
    "import pandas as pd\n",
    "\n",
    "\n",
    "DATASET_PATH = \"data/UCI HAR Dataset/\"\n",
    "TRAIN = \"train/\"\n",
    "TEST = \"test/\"\n",
    "INPUT_TYPES = [\n",
    "    \"body_acc_x_\",\n",
    "    \"body_acc_y_\",\n",
    "    \"body_acc_z_\",\n",
    "    \"body_gyro_x_\",\n",
    "    \"body_gyro_y_\",\n",
    "    \"body_gyro_z_\",\n",
    "    \"total_acc_x_\",\n",
    "    \"total_acc_y_\",\n",
    "    \"total_acc_z_\"\n",
    "]\n",
    "\n",
    "X_train = np.dstack([\n",
    "    pd.read_csv(DATASET_PATH + TRAIN + \"Inertial Signals/\" + signal + \"train.txt\", header=None, delim_whitespace=True).values for signal in INPUT_TYPES\n",
    "])\n",
    "X_test = np.dstack([\n",
    "    pd.read_csv(DATASET_PATH + TEST + \"Inertial Signals/\" + signal + \"test.txt\", header=None, delim_whitespace=True).values for signal in INPUT_TYPES\n",
    "])\n",
    "\n",
    "X_train = np.swapaxes(X_train, 0, 1)\n",
    "X_test = np.swapaxes(X_test, 0, 1)\n",
    "\n",
    "y_raw_train = pd.read_csv(DATASET_PATH + TRAIN + \"y_train.txt\", header=None, delim_whitespace=True).values\n",
    "y_raw_test = pd.read_csv(DATASET_PATH + TEST + \"y_test.txt\", header=None, delim_whitespace=True).values"
   ]
  },
  {
   "cell_type": "code",
   "execution_count": null,
   "metadata": {},
   "outputs": [],
   "source": [
    "from sklearn.preprocessing import OneHotEncoder\n",
    "\n",
    "\n",
    "encoder = OneHotEncoder()\n",
    "\n",
    "y_train = encoder.fit_transform(y_raw_train).toarray()\n",
    "y_test = encoder.transform(y_raw_test).toarray()"
   ]
  },
  {
   "cell_type": "code",
   "execution_count": null,
   "metadata": {},
   "outputs": [],
   "source": [
    "import numpy as np\n",
    "\n",
    "\n",
    "print(X_train.shape, y_train.shape, np.mean(X_train), np.std(X_train))\n",
    "print(X_test.shape, y_test.shape, np.mean(X_test), np.std(X_test))"
   ]
  },
  {
   "cell_type": "code",
   "execution_count": null,
   "metadata": {},
   "outputs": [],
   "source": [
    "from torch.da\n",
    "\n",
    "#dataset_train = "
   ]
  },
  {
   "cell_type": "code",
   "execution_count": null,
   "metadata": {},
   "outputs": [],
   "source": [
    "from torch import nn\n",
    "\n",
    "\n",
    "class Model(nn.Module):\n",
    "  def __init__(self):\n",
    "    super(Model, self).__init__()\n",
    "    self._lstm = nn.LSTM(input_size=9, hidden_size=32, num_layers=2)\n",
    "    self._softmax = nn.Sequential(\n",
    "      nn.Linear(32, 6),\n",
    "      nn.Softmax(dim=1)\n",
    "    )\n",
    "\n",
    "  def forward(self, input):\n",
    "    outSeq, _ = self._lstm(input)\n",
    "    out = outSeq[-1]\n",
    "    return self._softmax(out)"
   ]
  },
  {
   "cell_type": "code",
   "execution_count": null,
   "metadata": {},
   "outputs": [],
   "source": [
    "model = Model()\n",
    "print(model)"
   ]
  },
  {
   "cell_type": "code",
   "execution_count": null,
   "metadata": {},
   "outputs": [],
   "source": [
    "from tensorflow.keras import models, layers\n",
    "from tensorflow.keras.regularizers import l2\n",
    "\n",
    "\n",
    "l2_value = 0.0015\n",
    "\n",
    "lstm = models.Sequential([\n",
    "    layers.LSTM(32, input_shape=(128, 9), return_sequences=True, kernel_regularizer=l2(l2_value), bias_regularizer=l2(l2_value), recurrent_regularizer=l2(l2_value)),\n",
    "    layers.LSTM(32, kernel_regularizer=l2(l2_value), bias_regularizer=l2(l2_value), recurrent_regularizer=l2(l2_value)),\n",
    "    layers.Dense(6, activation=\"softmax\", kernel_regularizer=l2(l2_value), bias_regularizer=l2(l2_value))\n",
    "])\n",
    "\n",
    "lstm.compile(optimizer=\"adam\", loss=\"categorical_crossentropy\", metrics=[\"accuracy\"])\n",
    "history = lstm.fit(X_train, y_train, epochs=30, batch_size=32, validation_data=(X_test, y_test))"
   ]
  },
  {
   "cell_type": "code",
   "execution_count": null,
   "metadata": {},
   "outputs": [],
   "source": []
  }
 ],
 "metadata": {
  "hide_input": false,
  "kernelspec": {
   "display_name": "Python 3 (ipykernel)",
   "language": "python",
   "name": "python3"
  },
  "language_info": {
   "codemirror_mode": {
    "name": "ipython",
    "version": 3
   },
   "file_extension": ".py",
   "mimetype": "text/x-python",
   "name": "python",
   "nbconvert_exporter": "python",
   "pygments_lexer": "ipython3",
   "version": "3.9.10"
  }
 },
 "nbformat": 4,
 "nbformat_minor": 4
}
