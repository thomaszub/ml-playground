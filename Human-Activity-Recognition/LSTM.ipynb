{
 "cells": [
  {
   "cell_type": "code",
   "execution_count": null,
   "metadata": {},
   "outputs": [],
   "source": [
    "from get_data import get_data\n",
    "\n",
    "\n",
    "get_data()"
   ]
  },
  {
   "cell_type": "code",
   "execution_count": null,
   "metadata": {},
   "outputs": [],
   "source": [
    "import numpy as np\n",
    "import pandas as pd\n",
    "\n",
    "\n",
    "DATASET_PATH = \"data/UCI HAR Dataset/\"\n",
    "TRAIN = \"train/\"\n",
    "TEST = \"test/\"\n",
    "INPUT_TYPES = [\n",
    "    \"body_acc_x_\",\n",
    "    \"body_acc_y_\",\n",
    "    \"body_acc_z_\",\n",
    "    \"body_gyro_x_\",\n",
    "    \"body_gyro_y_\",\n",
    "    \"body_gyro_z_\",\n",
    "    \"total_acc_x_\",\n",
    "    \"total_acc_y_\",\n",
    "    \"total_acc_z_\"\n",
    "]\n",
    "\n",
    "X_train = np.dstack([\n",
    "    pd.read_csv(DATASET_PATH + TRAIN + \"Inertial Signals/\" + signal + \"train.txt\", header=None, delim_whitespace=True).values for signal in INPUT_TYPES\n",
    "])\n",
    "X_test = np.dstack([\n",
    "    pd.read_csv(DATASET_PATH + TEST + \"Inertial Signals/\" + signal + \"test.txt\", header=None, delim_whitespace=True).values for signal in INPUT_TYPES\n",
    "])\n",
    "\n",
    "y_raw_train = pd.read_csv(DATASET_PATH + TRAIN + \"y_train.txt\", header=None, delim_whitespace=True).values\n",
    "y_raw_test = pd.read_csv(DATASET_PATH + TEST + \"y_test.txt\", header=None, delim_whitespace=True).values"
   ]
  },
  {
   "cell_type": "code",
   "execution_count": null,
   "metadata": {},
   "outputs": [],
   "source": [
    "from sklearn.preprocessing import OneHotEncoder\n",
    "\n",
    "\n",
    "encoder = OneHotEncoder()\n",
    "\n",
    "y_train = encoder.fit_transform(y_raw_train).toarray()\n",
    "y_test = encoder.transform(y_raw_test).toarray()"
   ]
  },
  {
   "cell_type": "code",
   "execution_count": null,
   "metadata": {},
   "outputs": [],
   "source": [
    "from torch import Tensor\n",
    "from torch.utils.data import DataLoader, TensorDataset\n",
    "\n",
    "\n",
    "dataset_train = TensorDataset(Tensor(X_train), Tensor(y_train))\n",
    "dataset_test = TensorDataset(Tensor(X_test), Tensor(y_test))\n",
    "loader_train = DataLoader(dataset=dataset_train, batch_size=32, shuffle=True)\n",
    "loader_test = DataLoader(dataset=dataset_test, batch_size=32, shuffle=True)"
   ]
  },
  {
   "cell_type": "code",
   "execution_count": null,
   "metadata": {},
   "outputs": [],
   "source": [
    "import numpy as np\n",
    "\n",
    "\n",
    "print(X_train.shape, y_train.shape, np.mean(X_train), np.std(X_train))\n",
    "print(X_test.shape, y_test.shape, np.mean(X_test), np.std(X_test))"
   ]
  },
  {
   "cell_type": "code",
   "execution_count": null,
   "metadata": {},
   "outputs": [],
   "source": [
    "from torch import nn\n",
    "\n",
    "\n",
    "class Model(nn.Module):\n",
    "  def __init__(self):\n",
    "    super(Model, self).__init__()\n",
    "    self._lstm = nn.LSTM(input_size=9, hidden_size=32, num_layers=2, batch_first=True)\n",
    "    self._linear = nn.Sequential(\n",
    "      nn.Linear(32, 6)\n",
    "    )\n",
    "\n",
    "  def forward(self, input):\n",
    "    outSeq, _ = self._lstm(input)\n",
    "    out = outSeq[:, -1, :]\n",
    "    return self._linear(out)"
   ]
  },
  {
   "cell_type": "code",
   "execution_count": null,
   "metadata": {},
   "outputs": [],
   "source": [
    "model = Model()\n",
    "print(model)"
   ]
  },
  {
   "cell_type": "code",
   "execution_count": null,
   "metadata": {},
   "outputs": [],
   "source": [
    "import torch\n",
    "from torch import nn, optim\n",
    "from tqdm.notebook import tqdm\n",
    "\n",
    "\n",
    "loss_function = nn.CrossEntropyLoss()\n",
    "optimizer = optim.Adam(model.parameters(), weight_decay=0.0015)  \n",
    "\n",
    "def train():\n",
    "  with tqdm(desc=\"Batch\", total=len(loader_train)) as pbatch:\n",
    "    for (X, y) in loader_train:\n",
    "      pred = model(X)\n",
    "      loss = loss_function(pred, y)\n",
    "      optimizer.zero_grad()\n",
    "      loss.backward()\n",
    "      optimizer.step()\n",
    "      pbatch.set_postfix(loss=loss.item())\n",
    "      pbatch.update()\n",
    "\n",
    "def test():\n",
    "  test_loss = 0.0\n",
    "  accuracy = 0.0\n",
    "  with torch.no_grad():\n",
    "    for X, y in loader_test:\n",
    "      pred = model(X)\n",
    "      test_loss += loss_function(pred, y).item()\n",
    "      accuracy += (torch.argmax(pred, dim=1) == torch.argmax(y, dim=1)).type(torch.float).sum()\n",
    "  test_loss /= len(loader_test)\n",
    "  accuracy /= len(loader_test.dataset)\n",
    "  tqdm.write(f\"Test -> Loss: {test_loss}, accuracy: {accuracy}\")\n"
   ]
  },
  {
   "cell_type": "code",
   "execution_count": null,
   "metadata": {},
   "outputs": [],
   "source": [
    "from tqdm.notebook import trange\n",
    "\n",
    "torch.manual_seed(666)\n",
    "\n",
    "for epoch in trange(1, 31, desc=\"Epoch\"):\n",
    "  train()\n",
    "  test()"
   ]
  },
  {
   "cell_type": "code",
   "execution_count": null,
   "metadata": {},
   "outputs": [],
   "source": [
    "test()"
   ]
  }
 ],
 "metadata": {
  "hide_input": false,
  "kernelspec": {
   "display_name": "Python 3 (ipykernel)",
   "language": "python",
   "name": "python3"
  },
  "language_info": {
   "codemirror_mode": {
    "name": "ipython",
    "version": 3
   },
   "file_extension": ".py",
   "mimetype": "text/x-python",
   "name": "python",
   "nbconvert_exporter": "python",
   "pygments_lexer": "ipython3",
   "version": "3.9.10"
  }
 },
 "nbformat": 4,
 "nbformat_minor": 4
}
