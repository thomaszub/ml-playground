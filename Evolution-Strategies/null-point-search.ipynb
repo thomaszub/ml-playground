{
 "cells": [
  {
   "cell_type": "code",
   "execution_count": null,
   "metadata": {},
   "outputs": [],
   "source": [
    "import numpy as np\n",
    "from typing import Callable"
   ]
  },
  {
   "cell_type": "code",
   "execution_count": null,
   "metadata": {},
   "outputs": [],
   "source": [
    "def reward(params):\n",
    "    return -(np.power(params[0] - 1.0, 2) + 0.5*np.power(params[1] - 2.0, 2) + 0.25*np.power(params[2] + 1.0, 2))"
   ]
  },
  {
   "cell_type": "code",
   "execution_count": null,
   "metadata": {},
   "outputs": [],
   "source": [
    "def es_fit(reward: Callable, num_params: int, generations: int, num_children: int, learning_rate: float, std_dev: float, seed: int = None):\n",
    "    if seed != None:\n",
    "        np.random.seed(seed)\n",
    "    params = np.zeros(num_params)\n",
    "    for generation in range(1, generations + 1):\n",
    "        new_params = np.random.normal(params, std_dev, (num_children, num_params))\n",
    "        rewards = np.array([reward(new_param) for new_param in new_params])\n",
    "        advantages = (rewards - np.mean(rewards)) / np.std(rewards)\n",
    "        pot_params = params + learning_rate/(num_children * std_dev**2) * np.dot(new_params.T, advantages)\n",
    "        if reward(pot_params) > reward(params):\n",
    "            params = pot_params\n",
    "    return params\n"
   ]
  },
  {
   "cell_type": "code",
   "execution_count": null,
   "metadata": {},
   "outputs": [],
   "source": [
    "params_es = es_fit(reward, 3, 200, 64, 0.01, 0.1, 42)\n",
    "reward_es = reward(params_es)\n",
    "print(f\"Estimated params: {params_es}, reward: {reward_es}\")"
   ]
  },
  {
   "cell_type": "code",
   "execution_count": null,
   "metadata": {},
   "outputs": [],
   "source": [
    "def es_sel_fit(reward: Callable, num_params: int, generations: int, prob_success: float, seed: int = None):\n",
    "    if seed != None:\n",
    "        np.random.seed(seed)\n",
    "    params = np.zeros(num_params)\n",
    "    std_dev = 1.0\n",
    "    reward_parent = reward(params)\n",
    "    for generation in range(1, generations + 1):\n",
    "        params_child = np.random.normal(params, std_dev, num_params)\n",
    "        reward_child = reward(params_child)\n",
    "        if reward_child > reward_parent:\n",
    "            params = params_child\n",
    "            reward_parent = reward_child\n",
    "            std_dev *= np.exp(1.0/3.0)\n",
    "        else:\n",
    "            std_dev *= np.exp(-prob_success/(3.0*(1.0 - prob_success)))\n",
    "    return params\n"
   ]
  },
  {
   "cell_type": "code",
   "execution_count": null,
   "metadata": {},
   "outputs": [],
   "source": [
    "params_es_sel = es_sel_fit(reward, 3, 4*200, 0.2, 42)\n",
    "reward_es_sel = reward(params_es_sel)\n",
    "print(f\"Estimated params: {params_es_sel}, reward: {reward_es_sel}\")"
   ]
  },
  {
   "cell_type": "code",
   "execution_count": null,
   "metadata": {},
   "outputs": [],
   "source": []
  }
 ],
 "metadata": {
  "interpreter": {
   "hash": "e06e86a2d02c6c5b9818be23852e389c5c2648279cdc76075aac05f4c4d83789"
  },
  "kernelspec": {
   "display_name": "Python 3.9.9 64-bit ('.venv': poetry)",
   "language": "python",
   "name": "python3"
  },
  "language_info": {
   "codemirror_mode": {
    "name": "ipython",
    "version": 3
   },
   "file_extension": ".py",
   "mimetype": "text/x-python",
   "name": "python",
   "nbconvert_exporter": "python",
   "pygments_lexer": "ipython3",
   "version": "3.9.9"
  },
  "orig_nbformat": 4
 },
 "nbformat": 4,
 "nbformat_minor": 2
}
