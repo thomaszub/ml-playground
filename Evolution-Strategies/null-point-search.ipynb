{
 "cells": [
  {
   "cell_type": "code",
   "execution_count": null,
   "metadata": {},
   "outputs": [],
   "source": [
    "import numpy as np\n",
    "from typing import Callable"
   ]
  },
  {
   "cell_type": "code",
   "execution_count": null,
   "metadata": {},
   "outputs": [],
   "source": [
    "def reward(params):\n",
    "    return -(np.power(params[0] - 1.0, 2) + 0.5*np.power(params[1] - 2.0, 2) + 0.25*np.power(params[2] + 1.0, 2))"
   ]
  },
  {
   "cell_type": "code",
   "execution_count": null,
   "metadata": {},
   "outputs": [],
   "source": [
    "params = np.array([1.0, 2.0, -1.0])\n",
    "reward(params)"
   ]
  },
  {
   "cell_type": "code",
   "execution_count": null,
   "metadata": {},
   "outputs": [],
   "source": [
    "def es_fit(reward: Callable, num_params: int, generations: int, num_populations: int, learning_rate: float, std_dev: float, seed: int = None):\n",
    "    if seed != None:\n",
    "        np.random.seed(seed)\n",
    "    params = np.zeros(num_params)\n",
    "    for generation in range(1, generations + 1):\n",
    "        etas = np.random.normal(0, std_dev, (num_populations, num_params))\n",
    "        rewards = np.array([reward(params + eta) for eta in etas])\n",
    "        std_dev_rewards = np.std(rewards)\n",
    "        mean_rewards = np.mean(rewards)\n",
    "        params += learning_rate/(num_populations * std_dev * std_dev_rewards) * np.dot(etas.transpose(), rewards - mean_rewards)\n",
    "    return params\n"
   ]
  },
  {
   "cell_type": "code",
   "execution_count": null,
   "metadata": {},
   "outputs": [],
   "source": [
    "params_es = es_fit(reward, 3, 200, 64, 0.1, 0.1, 42)\n",
    "reward_es = reward(params_es)\n",
    "print(f\"Estimated params: {params_es}, reward: {reward_es}\")"
   ]
  },
  {
   "cell_type": "code",
   "execution_count": null,
   "metadata": {},
   "outputs": [],
   "source": []
  }
 ],
 "metadata": {
  "interpreter": {
   "hash": "e06e86a2d02c6c5b9818be23852e389c5c2648279cdc76075aac05f4c4d83789"
  },
  "kernelspec": {
   "display_name": "Python 3.9.9 64-bit ('.venv': poetry)",
   "language": "python",
   "name": "python3"
  },
  "language_info": {
   "codemirror_mode": {
    "name": "ipython",
    "version": 3
   },
   "file_extension": ".py",
   "mimetype": "text/x-python",
   "name": "python",
   "nbconvert_exporter": "python",
   "pygments_lexer": "ipython3",
   "version": "3.9.9"
  },
  "orig_nbformat": 4
 },
 "nbformat": 4,
 "nbformat_minor": 2
}
