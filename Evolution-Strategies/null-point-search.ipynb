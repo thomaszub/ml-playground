{
 "cells": [
  {
   "cell_type": "code",
   "execution_count": null,
   "metadata": {},
   "outputs": [],
   "source": [
    "import numpy as np\n",
    "from typing import Callable"
   ]
  },
  {
   "cell_type": "code",
   "execution_count": null,
   "metadata": {},
   "outputs": [],
   "source": [
    "def reward(params):\n",
    "    return -(np.power(params[0] - 1.0, 2) + 0.5*np.power(params[1] - 2.0, 2) + 0.25*np.power(params[2] + 1.0, 2))"
   ]
  },
  {
   "cell_type": "code",
   "execution_count": null,
   "metadata": {},
   "outputs": [],
   "source": [
    "from evolution_strategies import es_adv_fit\n",
    "\n",
    "params_es = es_adv_fit(reward, 3, 200, 64, 0.01, 0.1, 42)\n",
    "reward_es = reward(params_es)\n",
    "print(f\"Advantage - Estimated params: {params_es}, reward: {reward_es}\")"
   ]
  },
  {
   "cell_type": "code",
   "execution_count": null,
   "metadata": {},
   "outputs": [],
   "source": [
    "from evolution_strategies import es_sel_succ_fit\n",
    "\n",
    "params_es_sel = es_sel_succ_fit(reward, 3, 4*200, 0.2, 42)\n",
    "reward_es_sel = reward(params_es_sel)\n",
    "print(f\"Selection 1/5th step size adaption - Estimated params: {params_es_sel}, reward: {reward_es_sel}\")"
   ]
  },
  {
   "cell_type": "code",
   "execution_count": null,
   "metadata": {},
   "outputs": [],
   "source": []
  }
 ],
 "metadata": {
  "interpreter": {
   "hash": "e06e86a2d02c6c5b9818be23852e389c5c2648279cdc76075aac05f4c4d83789"
  },
  "kernelspec": {
   "display_name": "Python 3.9.9 64-bit ('.venv': poetry)",
   "language": "python",
   "name": "python3"
  },
  "language_info": {
   "codemirror_mode": {
    "name": "ipython",
    "version": 3
   },
   "file_extension": ".py",
   "mimetype": "text/x-python",
   "name": "python",
   "nbconvert_exporter": "python",
   "pygments_lexer": "ipython3",
   "version": "3.9.9"
  },
  "orig_nbformat": 4
 },
 "nbformat": 4,
 "nbformat_minor": 2
}
