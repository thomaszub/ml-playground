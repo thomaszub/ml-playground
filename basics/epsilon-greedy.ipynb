{
 "cells": [
  {
   "cell_type": "code",
   "execution_count": null,
   "metadata": {},
   "outputs": [],
   "source": [
    "import random\n",
    "import numpy as np\n",
    "from bandit import Bandit\n",
    "\n",
    "\n",
    "bandits = [Bandit(0.1), Bandit(0.25), Bandit(0.15)]\n",
    "\n",
    "eps = 0.1\n",
    "\n",
    "for t in range(10000):\n",
    "    id = np.argmax([b.mean for b in bandits]) if random.random() > eps else random.randint(0, 2)\n",
    "    reward = bandits[id].pull()"
   ]
  },
  {
   "cell_type": "code",
   "execution_count": null,
   "metadata": {},
   "outputs": [],
   "source": [
    "print([b.mean for b in bandits])\n",
    "print([b.samples for b in bandits])"
   ]
  }
 ],
 "metadata": {
  "interpreter": {
   "hash": "e06e86a2d02c6c5b9818be23852e389c5c2648279cdc76075aac05f4c4d83789"
  },
  "kernelspec": {
   "display_name": "Python 3.9.10 ('.venv': poetry)",
   "language": "python",
   "name": "python3"
  },
  "language_info": {
   "codemirror_mode": {
    "name": "ipython",
    "version": 3
   },
   "file_extension": ".py",
   "mimetype": "text/x-python",
   "name": "python",
   "nbconvert_exporter": "python",
   "pygments_lexer": "ipython3",
   "version": "3.9.10"
  },
  "orig_nbformat": 4
 },
 "nbformat": 4,
 "nbformat_minor": 2
}
