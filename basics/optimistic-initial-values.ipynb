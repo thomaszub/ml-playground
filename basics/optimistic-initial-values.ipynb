{
 "cells": [
  {
   "cell_type": "code",
   "execution_count": null,
   "metadata": {},
   "outputs": [],
   "source": [
    "import random\n",
    "\n",
    "\n",
    "class Bandit:\n",
    "\n",
    "    def __init__(self, p: float):\n",
    "        self._p = p\n",
    "\n",
    "    def pull(self) -> int:\n",
    "        return random.random() < self._p"
   ]
  },
  {
   "cell_type": "code",
   "execution_count": null,
   "metadata": {},
   "outputs": [],
   "source": [
    "import numpy as np\n",
    "\n",
    "opt_init_val = 10.0\n",
    "\n",
    "bandits = [Bandit(0.1), Bandit(0.15), Bandit(0.12)]\n",
    "means = [opt_init_val, opt_init_val, opt_init_val]\n",
    "samples = [1, 1, 1]\n",
    "\n",
    "eps = 0.1\n",
    "\n",
    "for t in range(5000):\n",
    "    id = np.argmax(means)\n",
    "    reward = bandits[id].pull()\n",
    "    samples[id] += 1\n",
    "    means[id] += 1.0/samples[id] * (reward - means[id])"
   ]
  },
  {
   "cell_type": "code",
   "execution_count": null,
   "metadata": {},
   "outputs": [],
   "source": [
    "print(np.argmax(means))\n",
    "print(means)\n",
    "print(samples)"
   ]
  }
 ],
 "metadata": {
  "interpreter": {
   "hash": "e06e86a2d02c6c5b9818be23852e389c5c2648279cdc76075aac05f4c4d83789"
  },
  "kernelspec": {
   "display_name": "Python 3.9.10 ('.venv': poetry)",
   "language": "python",
   "name": "python3"
  },
  "language_info": {
   "codemirror_mode": {
    "name": "ipython",
    "version": 3
   },
   "file_extension": ".py",
   "mimetype": "text/x-python",
   "name": "python",
   "nbconvert_exporter": "python",
   "pygments_lexer": "ipython3",
   "version": "3.9.10"
  },
  "orig_nbformat": 4
 },
 "nbformat": 4,
 "nbformat_minor": 2
}
