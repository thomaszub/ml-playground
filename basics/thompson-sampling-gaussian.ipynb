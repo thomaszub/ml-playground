{
 "cells": [
  {
   "cell_type": "code",
   "execution_count": null,
   "metadata": {},
   "outputs": [],
   "source": [
    "import numpy as np\n",
    "from bandit import GaussianThompsonSamplingBandit\n",
    "\n",
    "precision = 1.0\n",
    "\n",
    "bandits = [GaussianThompsonSamplingBandit(0.1, precision), GaussianThompsonSamplingBandit(0.25, precision), GaussianThompsonSamplingBandit(0.15, precision)]\n",
    "\n",
    "for t in range(10000):\n",
    "    id = np.argmax([b.sample() for b in bandits])\n",
    "    reward = bandits[id].pull()"
   ]
  },
  {
   "cell_type": "code",
   "execution_count": null,
   "metadata": {},
   "outputs": [],
   "source": [
    "print([b.mean for b in bandits])\n",
    "print([b.samples for b in bandits])"
   ]
  }
 ],
 "metadata": {
  "interpreter": {
   "hash": "e06e86a2d02c6c5b9818be23852e389c5c2648279cdc76075aac05f4c4d83789"
  },
  "kernelspec": {
   "display_name": "Python 3.9.10 ('.venv': poetry)",
   "language": "python",
   "name": "python3"
  },
  "language_info": {
   "codemirror_mode": {
    "name": "ipython",
    "version": 3
   },
   "file_extension": ".py",
   "mimetype": "text/x-python",
   "name": "python",
   "nbconvert_exporter": "python",
   "pygments_lexer": "ipython3",
   "version": "3.9.10"
  },
  "orig_nbformat": 4
 },
 "nbformat": 4,
 "nbformat_minor": 2
}
