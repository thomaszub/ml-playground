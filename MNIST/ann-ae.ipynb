{
 "cells": [
  {
   "cell_type": "code",
   "execution_count": null,
   "metadata": {},
   "outputs": [],
   "source": [
    "import numpy as np\n",
    "import tensorflow as tf\n",
    "from tensorflow import keras as ks\n",
    "from sklearn.preprocessing import OneHotEncoder"
   ]
  },
  {
   "cell_type": "code",
   "execution_count": null,
   "metadata": {},
   "outputs": [],
   "source": [
    "# Load pre-shuffled MNIST data into train and test sets\n",
    "(x_train_raw, y_train_raw), (x_test_raw, y_test_raw) = ks.datasets.mnist.load_data()"
   ]
  },
  {
   "cell_type": "code",
   "execution_count": null,
   "metadata": {},
   "outputs": [],
   "source": [
    "import matplotlib.pyplot as plt\n",
    "\n",
    "plt.imshow(x_train_raw[2], cmap=\"gray_r\")"
   ]
  },
  {
   "cell_type": "code",
   "execution_count": null,
   "metadata": {},
   "outputs": [],
   "source": [
    "x_train = x_train_raw/255.0\n",
    "x_test = x_test_raw/255.0"
   ]
  },
  {
   "cell_type": "code",
   "execution_count": null,
   "metadata": {},
   "outputs": [],
   "source": [
    "enc = OneHotEncoder()\n",
    "\n",
    "y_train = enc.fit_transform(y_train_raw.reshape(-1, 1)).toarray()\n",
    "y_test = enc.transform(y_test_raw.reshape(-1, 1)).toarray()"
   ]
  },
  {
   "cell_type": "code",
   "execution_count": null,
   "metadata": {},
   "outputs": [],
   "source": [
    "class AutoEncoder(ks.Model):\n",
    "    \n",
    "    def __init__(self, name=\"autoencoder\", **kwargs):\n",
    "        super(AutoEncoder, self).__init__(name=name, **kwargs)\n",
    "        self.encoder = ks.Sequential([\n",
    "            ks.layers.Flatten(),\n",
    "            ks.layers.Dense(512, activation=\"relu\"),\n",
    "            ks.layers.Dense(256, activation=\"sigmoid\")\n",
    "        ])\n",
    "        self.decoder = ks.Sequential([\n",
    "            ks.layers.Dense(784, activation=\"sigmoid\"),\n",
    "            ks.layers.Reshape((28,28))\n",
    "        ])\n",
    "     \n",
    "    def call(self, inputs):\n",
    "        return self.decoder(self.encoder(inputs))"
   ]
  },
  {
   "cell_type": "code",
   "execution_count": null,
   "metadata": {},
   "outputs": [],
   "source": [
    "np.random.seed(666)\n",
    "tf.random.set_seed(666)\n",
    "\n",
    "auto = AutoEncoder()\n",
    "\n",
    "auto.compile(loss='mean_squared_error', optimizer='adam')\n",
    "auto.fit(x=x_train, y=x_train, batch_size=64, epochs=20, validation_data=(x_test, x_test))"
   ]
  },
  {
   "cell_type": "code",
   "execution_count": null,
   "metadata": {},
   "outputs": [],
   "source": [
    "x_train_enc = auto.encoder(x_train)\n",
    "x_train_dec = auto.decoder(x_train_enc)\n",
    "x_test_enc = auto.encoder(x_test)\n",
    "x_test_dec = auto.decoder(x_test_enc)\n",
    "\n",
    "plt.imshow(x_train_dec[2], cmap=\"gray_r\")"
   ]
  },
  {
   "cell_type": "code",
   "execution_count": null,
   "metadata": {},
   "outputs": [],
   "source": [
    "np.random.seed(666)\n",
    "tf.random.set_seed(666)\n",
    "\n",
    "model = ks.models.Sequential()\n",
    "model.add(ks.layers.Dense(128, activation=ks.activations.relu))\n",
    "model.add(ks.layers.Dense(64, activation=ks.activations.sigmoid))\n",
    "model.add(ks.layers.Dense(10, activation=ks.activations.softmax))\n",
    "\n",
    "model.compile(loss='categorical_crossentropy', optimizer='adam', metrics=['accuracy'])\n",
    "model.fit(x=x_train_enc, y=y_train, batch_size=32, epochs=20)"
   ]
  },
  {
   "cell_type": "code",
   "execution_count": null,
   "metadata": {},
   "outputs": [],
   "source": [
    "test_loss, test_acc = model.evaluate(x=x_test_enc, y=y_test)\n",
    "\n",
    "print('Test')\n",
    "print('Loss: %6.6f' % test_loss)\n",
    "print('Accuracy: %0.4f' % test_acc)"
   ]
  },
  {
   "cell_type": "code",
   "execution_count": null,
   "metadata": {},
   "outputs": [],
   "source": []
  }
 ],
 "metadata": {
  "kernelspec": {
   "display_name": "Python 3 (ipykernel)",
   "language": "python",
   "name": "python3"
  },
  "language_info": {
   "codemirror_mode": {
    "name": "ipython",
    "version": 3
   },
   "file_extension": ".py",
   "mimetype": "text/x-python",
   "name": "python",
   "nbconvert_exporter": "python",
   "pygments_lexer": "ipython3",
   "version": "3.9.7"
  }
 },
 "nbformat": 4,
 "nbformat_minor": 4
}
