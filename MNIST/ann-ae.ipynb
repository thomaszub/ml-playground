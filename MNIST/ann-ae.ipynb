{
 "cells": [
  {
   "cell_type": "code",
   "execution_count": null,
   "metadata": {},
   "outputs": [],
   "source": [
    "import torch\n",
    "from torchvision import datasets\n",
    "from torchvision.transforms import Lambda, ToTensor\n",
    "from torch.utils.data import DataLoader\n",
    "\n",
    "\n",
    "one_hot_encoding = Lambda(lambda label: torch.zeros(10, dtype=torch.float).scatter_(dim=0, index=torch.tensor(label), value=1))\n",
    "\n",
    "data_train = datasets.MNIST(\n",
    "  \"data\",\n",
    "  train=True,\n",
    "  download=True,\n",
    "  transform=ToTensor(),\n",
    "  target_transform=one_hot_encoding\n",
    ")\n",
    "data_test = datasets.MNIST(\n",
    "  \"data\",\n",
    "  train=False,\n",
    "  download=True,\n",
    "  transform=ToTensor(),\n",
    "  target_transform=one_hot_encoding\n",
    ")\n",
    "loader_train = DataLoader(dataset=data_train, batch_size=32, shuffle=True)\n",
    "loader_test = DataLoader(dataset=data_test, batch_size=32, shuffle=True)"
   ]
  },
  {
   "cell_type": "code",
   "execution_count": null,
   "metadata": {},
   "outputs": [],
   "source": [
    "import matplotlib.pyplot as plt\n",
    "\n",
    "\n",
    "plt.imshow(data_train[2][0].squeeze(), cmap=\"gray_r\")"
   ]
  },
  {
   "cell_type": "code",
   "execution_count": null,
   "metadata": {},
   "outputs": [],
   "source": [
    "from torch import nn\n",
    "\n",
    "class AutoEncoder(nn.Module):\n",
    "    \n",
    "    def __init__(self):\n",
    "        super(AutoEncoder, self).__init__()\n",
    "        self._flatten = nn.Flatten()\n",
    "        self._encoder = nn.Sequential(\n",
    "            nn.Linear(28*28, 512),\n",
    "            nn.ReLU(),\n",
    "            nn.Linear(512, 256),\n",
    "            nn.Sigmoid()\n",
    "        )\n",
    "        self._decoder = nn.Sequential(\n",
    "            nn.Linear(256, 28*28),\n",
    "            nn.Sigmoid()\n",
    "        )\n",
    "     \n",
    "    def encode(self, x):\n",
    "        return self._encoder(self._flatten(x))\n",
    "\n",
    "    def decode(self, x):\n",
    "        return self._decoder(x).view(-1, 1, 28, 28)\n",
    "\n",
    "    def forward(self, x):\n",
    "        return self.decode(self.encode(x))"
   ]
  },
  {
   "cell_type": "code",
   "execution_count": null,
   "metadata": {},
   "outputs": [],
   "source": [
    "autoEncoder = AutoEncoder()\n",
    "print(autoEncoder)"
   ]
  },
  {
   "cell_type": "code",
   "execution_count": null,
   "metadata": {},
   "outputs": [],
   "source": [
    "from torch import nn, optim\n",
    "from tqdm.notebook import tqdm\n",
    "\n",
    "\n",
    "loss_function = nn.MSELoss()\n",
    "optimizer = optim.Adam(autoEncoder.parameters())  \n",
    "\n",
    "def train():\n",
    "  with tqdm(desc=\"Batch\", total=len(loader_train)) as pbatch:\n",
    "    for (X, _) in loader_train:\n",
    "      pred = autoEncoder(X)\n",
    "      loss = loss_function(pred, X)\n",
    "      optimizer.zero_grad()\n",
    "      loss.backward()\n",
    "      optimizer.step()\n",
    "      pbatch.set_postfix(loss=loss.item())\n",
    "      pbatch.update()\n",
    "\n",
    "def test():\n",
    "  test_loss = 0.0\n",
    "  with torch.no_grad():\n",
    "    for X, _ in loader_test:\n",
    "      pred = autoEncoder(X)\n",
    "      test_loss += loss_function(pred, X).item()\n",
    "  test_loss /= len(loader_test)\n",
    "  tqdm.write(f\"Test -> Loss: {test_loss}\")\n"
   ]
  },
  {
   "cell_type": "code",
   "execution_count": null,
   "metadata": {},
   "outputs": [],
   "source": [
    "from tqdm.notebook import trange\n",
    "\n",
    "torch.manual_seed(666)\n",
    "\n",
    "\n",
    "for epoch in trange(1, 21, desc=\"Epoch\"):\n",
    "  train()\n",
    "  test()\n"
   ]
  },
  {
   "cell_type": "code",
   "execution_count": null,
   "metadata": {},
   "outputs": [],
   "source": [
    "with torch.no_grad():\n",
    "  x_train_enc = autoEncoder.encode(data_train[2][0])\n",
    "  x_train_dec = autoEncoder.decode(x_train_enc)\n",
    "\n",
    "  plt.imshow(x_train_dec.squeeze(), cmap=\"gray_r\")"
   ]
  }
 ],
 "metadata": {
  "kernelspec": {
   "display_name": "Python 3 (ipykernel)",
   "language": "python",
   "name": "python3"
  },
  "language_info": {
   "codemirror_mode": {
    "name": "ipython",
    "version": 3
   },
   "file_extension": ".py",
   "mimetype": "text/x-python",
   "name": "python",
   "nbconvert_exporter": "python",
   "pygments_lexer": "ipython3",
   "version": "3.9.10"
  }
 },
 "nbformat": 4,
 "nbformat_minor": 4
}
