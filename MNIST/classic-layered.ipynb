{
 "cells": [
  {
   "cell_type": "code",
   "execution_count": null,
   "metadata": {},
   "outputs": [],
   "source": [
    "import data\n",
    "import matplotlib.pyplot as plt\n",
    "\n",
    "\n",
    "loader_train, loader_test = data.get_data(32)\n",
    "plt.imshow(loader_train.dataset[2][0].squeeze(), cmap=\"gray_r\")"
   ]
  },
  {
   "cell_type": "code",
   "execution_count": null,
   "metadata": {},
   "outputs": [],
   "source": [
    "from torch import nn\n",
    "\n",
    "\n",
    "class Model(nn.Module):\n",
    "\n",
    "    def __init__(self):\n",
    "        super(Model, self).__init__()\n",
    "        self._flatten = nn.Flatten()\n",
    "        self._model = nn.Sequential(\n",
    "            nn.Linear(28*28, 128),\n",
    "            nn.ReLU(),\n",
    "            nn.Dropout(0.5),\n",
    "            nn.Linear(128, 32),\n",
    "            nn.Sigmoid(),\n",
    "            nn.Linear(32, 10)\n",
    "        )\n",
    "\n",
    "    def forward(self, x):\n",
    "        return self._model(self._flatten(x))\n",
    "\n",
    "\n",
    "model = Model()\n",
    "print(model)"
   ]
  },
  {
   "cell_type": "code",
   "execution_count": null,
   "metadata": {},
   "outputs": [],
   "source": [
    "import torch\n",
    "from torch import nn, optim\n",
    "from tqdm.notebook import tqdm\n",
    "\n",
    "\n",
    "loss_function = nn.CrossEntropyLoss()\n",
    "optimizer = optim.Adam(model.parameters())  \n",
    "\n",
    "def train():\n",
    "    with tqdm(desc=\"Batch\", total=len(loader_train)) as pbatch:\n",
    "        for (X, y) in loader_train:\n",
    "            pred = model(X)\n",
    "            loss = loss_function(pred, y)\n",
    "            optimizer.zero_grad()\n",
    "            loss.backward()\n",
    "            optimizer.step()\n",
    "            pbatch.set_postfix(loss=loss.item())\n",
    "            pbatch.update()\n",
    "\n",
    "@torch.no_grad()\n",
    "def test():\n",
    "    test_loss = 0.0\n",
    "    accuracy = 0.0\n",
    "    for X, y in loader_test:\n",
    "        pred = model(X)\n",
    "        test_loss += loss_function(pred, y).item()\n",
    "        accuracy += (torch.argmax(pred, dim=1) == torch.argmax(y, dim=1)).type(torch.float).sum()\n",
    "    test_loss /= len(loader_test)\n",
    "    accuracy /= len(loader_test.dataset)\n",
    "    tqdm.write(f\"Test -> Loss: {test_loss}, accuracy: {accuracy}\")"
   ]
  },
  {
   "cell_type": "code",
   "execution_count": null,
   "metadata": {},
   "outputs": [],
   "source": [
    "import torch\n",
    "from tqdm.notebook import trange\n",
    "\n",
    "\n",
    "torch.manual_seed(666)\n",
    "\n",
    "for epoch in trange(1, 21, desc=\"Epoch\"):\n",
    "    train()\n",
    "    test()"
   ]
  }
 ],
 "metadata": {
  "kernelspec": {
   "display_name": "Python 3 (ipykernel)",
   "language": "python",
   "name": "python3"
  },
  "language_info": {
   "codemirror_mode": {
    "name": "ipython",
    "version": 3
   },
   "file_extension": ".py",
   "mimetype": "text/x-python",
   "name": "python",
   "nbconvert_exporter": "python",
   "pygments_lexer": "ipython3",
   "version": "3.9.10"
  }
 },
 "nbformat": 4,
 "nbformat_minor": 4
}
