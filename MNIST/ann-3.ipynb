{
 "cells": [
  {
   "cell_type": "code",
   "execution_count": null,
   "metadata": {},
   "outputs": [],
   "source": [
    "import torch\n",
    "from torchvision import datasets\n",
    "from torchvision.transforms import Lambda, ToTensor\n",
    "from torch.utils.data import DataLoader\n",
    "\n",
    "\n",
    "one_hot_encoding = Lambda(lambda label: torch.zeros(10, dtype=torch.float).scatter_(dim=0, index=torch.tensor(label), value=1))\n",
    "\n",
    "data_train = datasets.MNIST(\n",
    "  \"data\",\n",
    "  train=True,\n",
    "  download=True,\n",
    "  transform=ToTensor(),\n",
    "  target_transform=one_hot_encoding\n",
    ")\n",
    "data_test = datasets.MNIST(\n",
    "  \"data\",\n",
    "  train=False,\n",
    "  download=True,\n",
    "  transform=ToTensor(),\n",
    "  target_transform=one_hot_encoding\n",
    ")\n",
    "loader_train = DataLoader(dataset=data_train, batch_size=32, shuffle=True)\n",
    "loader_test = DataLoader(dataset=data_test, batch_size=32, shuffle=True)"
   ]
  },
  {
   "cell_type": "code",
   "execution_count": null,
   "metadata": {},
   "outputs": [],
   "source": [
    "import matplotlib.pyplot as plt\n",
    "\n",
    "\n",
    "plt.imshow(data_train[2][0].squeeze(), cmap=\"gray_r\")"
   ]
  },
  {
   "cell_type": "code",
   "execution_count": null,
   "metadata": {},
   "outputs": [],
   "source": [
    "from torch import nn\n",
    "\n",
    "\n",
    "class Model(nn.Module):\n",
    "  def __init__(self):\n",
    "    super(Model, self).__init__()\n",
    "    self._flatten = nn.Flatten()\n",
    "    self._model = nn.Sequential(\n",
    "      nn.Linear(28*28, 128),\n",
    "      nn.ReLU(),\n",
    "      nn.Dropout(0.5),\n",
    "      nn.Linear(128, 32),\n",
    "      nn.Sigmoid(),\n",
    "      nn.Linear(32, 10),\n",
    "      nn.Softmax(dim=1)\n",
    "    )\n",
    "\n",
    "  def forward(self, x):\n",
    "    return self._model(self._flatten(x))\n",
    "  \n",
    "\n",
    "#np.random.seed(666)\n",
    "#tf.random.set_seed(666)"
   ]
  },
  {
   "cell_type": "code",
   "execution_count": null,
   "metadata": {},
   "outputs": [],
   "source": [
    "model = Model()\n",
    "print(model)"
   ]
  },
  {
   "cell_type": "code",
   "execution_count": null,
   "metadata": {},
   "outputs": [],
   "source": [
    "from torch import nn, optim\n",
    "\n",
    "\n",
    "loss_function = nn.CrossEntropyLoss()\n",
    "optimizer = optim.Adam(model.parameters())  \n",
    "\n",
    "def train():\n",
    "  for batch, (X, y) in enumerate(loader_train):\n",
    "    pred = model(X)\n",
    "    loss = loss_function(pred, y)\n",
    "    optimizer.zero_grad()\n",
    "    loss.backward()\n",
    "    optimizer.step()\n",
    "\n",
    "    if batch % 100 == 0:\n",
    "      print(f\"Batch {batch} -> loss: {loss.item()}\")\n",
    "\n",
    "\n",
    "def test():\n",
    "  test_loss = 0.0\n",
    "  accuracy = 0.0\n",
    "  with torch.no_grad():\n",
    "    for X, y in loader_test:\n",
    "      pred = model(X)\n",
    "      test_loss += loss_function(pred, y).item()\n",
    "      accuracy += (torch.argmax(pred, dim=1) == torch.argmax(y, dim=1)).type(torch.float).sum()\n",
    "  test_loss /= len(loader_test)\n",
    "  accuracy /= len(loader_test.dataset)\n",
    "  print(f\"Test -> Loss: {test_loss}, accuracy: {accuracy}\")\n"
   ]
  },
  {
   "cell_type": "code",
   "execution_count": null,
   "metadata": {},
   "outputs": [],
   "source": [
    "torch.manual_seed(666)\n",
    "\n",
    "for epoch in range(1, 21):\n",
    "  print(f\"Epoch: {epoch}\")\n",
    "  train()\n",
    "  test()\n"
   ]
  },
  {
   "cell_type": "code",
   "execution_count": null,
   "metadata": {},
   "outputs": [],
   "source": [
    "test()"
   ]
  }
 ],
 "metadata": {
  "kernelspec": {
   "display_name": "Python 3 (ipykernel)",
   "language": "python",
   "name": "python3"
  },
  "language_info": {
   "codemirror_mode": {
    "name": "ipython",
    "version": 3
   },
   "file_extension": ".py",
   "mimetype": "text/x-python",
   "name": "python",
   "nbconvert_exporter": "python",
   "pygments_lexer": "ipython3",
   "version": "3.9.10"
  }
 },
 "nbformat": 4,
 "nbformat_minor": 4
}
