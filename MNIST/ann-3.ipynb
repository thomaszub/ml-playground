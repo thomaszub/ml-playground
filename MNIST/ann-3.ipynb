{
 "cells": [
  {
   "cell_type": "code",
   "execution_count": 8,
   "metadata": {},
   "outputs": [],
   "source": [
    "from tensorflow import keras as ks\n",
    "\n",
    "# Load pre-shuffled MNIST data into train and test sets\n",
    "(x_train, y_train_raw), (x_test, y_test_raw) = ks.datasets.mnist.load_data()"
   ]
  },
  {
   "cell_type": "code",
   "execution_count": 9,
   "metadata": {},
   "outputs": [
    {
     "data": {
      "text/plain": [
       "<matplotlib.image.AxesImage at 0x7fb605363a90>"
      ]
     },
     "execution_count": 9,
     "metadata": {},
     "output_type": "execute_result"
    },
    {
     "data": {
      "image/png": "[encoded data removed]",
      "text/plain": [
       "<Figure size 432x288 with 1 Axes>"
      ]
     },
     "metadata": {
      "needs_background": "light"
     },
     "output_type": "display_data"
    }
   ],
   "source": [
    "import matplotlib.pyplot as plt\n",
    "\n",
    "plt.imshow(x_train[2], cmap=\"gray_r\")"
   ]
  },
  {
   "cell_type": "code",
   "execution_count": 10,
   "metadata": {},
   "outputs": [],
   "source": [
    "from sklearn.preprocessing import OneHotEncoder\n",
    "\n",
    "enc = OneHotEncoder()\n",
    "\n",
    "y_train = enc.fit_transform(y_train_raw.reshape(-1, 1)).toarray()\n",
    "y_test = enc.transform(y_test_raw.reshape(-1, 1)).toarray()"
   ]
  },
  {
   "cell_type": "code",
   "execution_count": 11,
   "metadata": {},
   "outputs": [
    {
     "name": "stderr",
     "output_type": "stream",
     "text": [
      "2021-08-26 17:34:47.130079: I tensorflow/core/platform/cpu_feature_guard.cc:142] This TensorFlow binary is optimized with oneAPI Deep Neural Network Library (oneDNN) to use the following CPU instructions in performance-critical operations:  AVX2 FMA\n",
      "To enable them in other operations, rebuild TensorFlow with the appropriate compiler flags.\n",
      "2021-08-26 17:34:47.139824: I tensorflow/compiler/xla/service/service.cc:169] XLA service 0x7fb604454ea0 initialized for platform Host (this does not guarantee that XLA will be used). Devices:\n",
      "2021-08-26 17:34:47.139842: I tensorflow/compiler/xla/service/service.cc:177]   StreamExecutor device (0): Host, Default Version\n",
      "2021-08-26 17:34:50.151786: I tensorflow/compiler/mlir/mlir_graph_optimization_pass.cc:176] None of the MLIR Optimization Passes are enabled (registered 2)\n"
     ]
    },
    {
     "name": "stdout",
     "output_type": "stream",
     "text": [
      "Epoch 1/5\n",
      "2000/2000 [==============================] - 2s 946us/step - loss: 0.7463 - accuracy: 0.7995\n",
      "Epoch 2/5\n",
      "2000/2000 [==============================] - 2s 1ms/step - loss: 0.4015 - accuracy: 0.8830\n",
      "Epoch 3/5\n",
      "2000/2000 [==============================] - 2s 1ms/step - loss: 0.3680 - accuracy: 0.8908\n",
      "Epoch 4/5\n",
      "2000/2000 [==============================] - 2s 953us/step - loss: 0.3250 - accuracy: 0.9050\n",
      "Epoch 5/5\n",
      "2000/2000 [==============================] - 2s 977us/step - loss: 0.3148 - accuracy: 0.9076\n"
     ]
    },
    {
     "data": {
      "text/plain": [
       "<tensorflow.python.keras.callbacks.History at 0x7fb600d29c40>"
      ]
     },
     "execution_count": 11,
     "metadata": {},
     "output_type": "execute_result"
    }
   ],
   "source": [
    "model = keras.models.Sequential()\n",
    "model.add(ks.layers.Flatten())\n",
    "model.add(ks.layers.Dense(128, activation=ks.activations.relu))\n",
    "model.add(ks.layers.Dense(32, activation=ks.activations.sigmoid))\n",
    "model.add(ks.layers.Dense(10, activation=ks.activations.softmax))\n",
    "\n",
    "model.compile(loss='categorical_crossentropy', optimizer='adam', metrics=['accuracy'])\n",
    "model.fit(x=x_train, y=y_train, batch_size=30, epochs=5)"
   ]
  },
  {
   "cell_type": "code",
   "execution_count": 11,
   "metadata": {},
   "outputs": [
    {
     "name": "stdout",
     "output_type": "stream",
     "text": [
      "313/313 [==============================] - 0s 616us/step - loss: 0.2900 - accuracy: 0.9182\n",
      "Test\n",
      "Loss: 0.289994\n",
      "Accuracy: 0.9182\n"
     ]
    }
   ],
   "source": [
    "test_loss, test_acc = model.evaluate(x=x_test, y=y_test)\n",
    "\n",
    "print('Test')\n",
    "print('Loss: %6.6f' % test_loss)\n",
    "print('Accuracy: %0.4f' % test_acc)"
   ]
  },
  {
   "cell_type": "code",
   "execution_count": null,
   "metadata": {},
   "outputs": [],
   "source": []
  }
 ],
 "metadata": {
  "kernelspec": {
   "display_name": "Python 3 (ipykernel)",
   "language": "python",
   "name": "python3"
  },
  "language_info": {
   "codemirror_mode": {
    "name": "ipython",
    "version": 3
   },
   "file_extension": ".py",
   "mimetype": "text/x-python",
   "name": "python",
   "nbconvert_exporter": "python",
   "pygments_lexer": "ipython3",
   "version": "3.8.11"
  }
 },
 "nbformat": 4,
 "nbformat_minor": 4
}
