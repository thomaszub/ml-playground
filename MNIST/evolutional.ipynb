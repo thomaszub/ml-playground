{
 "cells": [
  {
   "cell_type": "code",
   "execution_count": 5,
   "metadata": {},
   "outputs": [
    {
     "data": {
      "text/plain": [
       "<matplotlib.image.AxesImage at 0x1243271c0>"
      ]
     },
     "execution_count": 5,
     "metadata": {},
     "output_type": "execute_result"
    },
    {
     "data": {
      "image/png": "[encoded data removed]",
      "text/plain": [
       "<Figure size 432x288 with 1 Axes>"
      ]
     },
     "metadata": {
      "needs_background": "light"
     },
     "output_type": "display_data"
    }
   ],
   "source": [
    "import data\n",
    "import matplotlib.pyplot as plt\n",
    "\n",
    "\n",
    "data_train, data_test = data.get_datasets()\n",
    "plt.imshow(data_train[2][0].squeeze(), cmap=\"gray_r\")"
   ]
  },
  {
   "cell_type": "code",
   "execution_count": 6,
   "metadata": {},
   "outputs": [],
   "source": [
    "from torch import nn\n",
    "from copy import deepcopy\n",
    "\n",
    "class Model(nn.Module):\n",
    "\n",
    "    def __init__(self):\n",
    "        super(Model, self).__init__()\n",
    "        self._flatten = nn.Flatten()\n",
    "        self._model = nn.Sequential(\n",
    "            nn.Linear(28*28, 128),\n",
    "            nn.ReLU(),\n",
    "            nn.Linear(128, 32),\n",
    "            nn.Sigmoid(),\n",
    "            nn.Linear(32, 10)\n",
    "        )\n",
    "        self._flatten.requires_grad_(False)\n",
    "        self._model.requires_grad_(False)\n",
    "        self.requires_grad_(False)\n",
    "\n",
    "    def forward(self, x):\n",
    "        return self._model(self._flatten(x))\n",
    "\n",
    "    def child(self, std_dev: float) -> 'Model':\n",
    "        child = deepcopy(self)\n",
    "        for p in self.parameters():\n",
    "            p.add_(torch.randn(p.size()) * std_dev)\n",
    "        return child\n"
   ]
  },
  {
   "cell_type": "code",
   "execution_count": 8,
   "metadata": {},
   "outputs": [],
   "source": [
    "import torch\n",
    "from tqdm.notebook import tqdm\n",
    "from typing import List\n",
    "\n",
    "\n",
    "loss_function = nn.CrossEntropyLoss()\n",
    "loss_function.requires_grad_(False)\n",
    "num_parents = 4\n",
    "mutation_per_parent = 4\n",
    "std_dev = 0.1\n",
    "\n",
    "\n",
    "def train(candidates: List[Model]):\n",
    "    X = data_train.data\n",
    "    y = data_train.targets\n",
    "    candidates.extend(\n",
    "        [parent.child(std_dev) for parent in candidates for _ in range(mutation_per_parent)]\n",
    "    )\n",
    "    eval_candidates = [(candidate, loss_function(candidate(X), y).item()) for candidate in candidates]\n",
    "    eval_candidates.sort(key=lambda c: c[1])\n",
    "\n",
    "    candidates = list(map(lambda c: c[0], eval_candidates[0:num_parents]))\n",
    "\n",
    "    return candidates\n",
    "\n",
    "@torch.no_grad()\n",
    "def test(model: Model):\n",
    "    test_loss = 0.0\n",
    "    accuracy = 0.0\n",
    "    X = data_test.data\n",
    "    y = data_test.targets\n",
    "    pred = model(X)\n",
    "    test_loss = loss_function(pred, y).item()\n",
    "    accuracy += (torch.argmax(pred, dim=1) == torch.argmax(y, dim=1)).type(torch.float).mean()\n",
    "    tqdm.write(f\"Test -> Loss: {test_loss}, accuracy: {accuracy}\")"
   ]
  },
  {
   "cell_type": "code",
   "execution_count": 9,
   "metadata": {},
   "outputs": [
    {
     "data": {
      "application/vnd.jupyter.widget-view+json": {
       "model_id": "7222720602e24f46a95e4df39a8884cf",
       "version_major": 2,
       "version_minor": 0
      },
      "text/plain": [
       "Epoch:   0%|          | 0/2000 [00:00<?, ?it/s]"
      ]
     },
     "metadata": {},
     "output_type": "display_data"
    },
    {
     "ename": "RuntimeError",
     "evalue": "expected scalar type Float but found Byte",
     "output_type": "error",
     "traceback": [
      "\u001b[0;31m---------------------------------------------------------------------------\u001b[0m",
      "\u001b[0;31mRuntimeError\u001b[0m                              Traceback (most recent call last)",
      "\u001b[1;32m/Users/thomaszub/projects/machine-learning/ml-playground/MNIST/evolutional.ipynb Cell 4'\u001b[0m in \u001b[0;36m<cell line: 8>\u001b[0;34m()\u001b[0m\n\u001b[1;32m      <a href='vscode-notebook-cell:/Users/thomaszub/projects/machine-learning/ml-playground/MNIST/evolutional.ipynb#ch0000003?line=5'>6</a>\u001b[0m candidates \u001b[39m=\u001b[39m [Model() \u001b[39mfor\u001b[39;00m _ \u001b[39min\u001b[39;00m \u001b[39mrange\u001b[39m(num_parents)]\n\u001b[1;32m      <a href='vscode-notebook-cell:/Users/thomaszub/projects/machine-learning/ml-playground/MNIST/evolutional.ipynb#ch0000003?line=7'>8</a>\u001b[0m \u001b[39mfor\u001b[39;00m epoch \u001b[39min\u001b[39;00m trange(\u001b[39m1\u001b[39m, \u001b[39m2001\u001b[39m, desc\u001b[39m=\u001b[39m\u001b[39m\"\u001b[39m\u001b[39mEpoch\u001b[39m\u001b[39m\"\u001b[39m):\n\u001b[0;32m----> <a href='vscode-notebook-cell:/Users/thomaszub/projects/machine-learning/ml-playground/MNIST/evolutional.ipynb#ch0000003?line=8'>9</a>\u001b[0m     candidates \u001b[39m=\u001b[39m train(candidates)\n\u001b[1;32m     <a href='vscode-notebook-cell:/Users/thomaszub/projects/machine-learning/ml-playground/MNIST/evolutional.ipynb#ch0000003?line=9'>10</a>\u001b[0m     \u001b[39mif\u001b[39;00m epoch \u001b[39m%\u001b[39m \u001b[39m100\u001b[39m \u001b[39m==\u001b[39m \u001b[39m0\u001b[39m:\n\u001b[1;32m     <a href='vscode-notebook-cell:/Users/thomaszub/projects/machine-learning/ml-playground/MNIST/evolutional.ipynb#ch0000003?line=10'>11</a>\u001b[0m         model \u001b[39m=\u001b[39m candidates[\u001b[39m0\u001b[39m]\n",
      "\u001b[1;32m/Users/thomaszub/projects/machine-learning/ml-playground/MNIST/evolutional.ipynb Cell 3'\u001b[0m in \u001b[0;36mtrain\u001b[0;34m(candidates)\u001b[0m\n\u001b[1;32m     <a href='vscode-notebook-cell:/Users/thomaszub/projects/machine-learning/ml-playground/MNIST/evolutional.ipynb#ch0000002?line=14'>15</a>\u001b[0m y \u001b[39m=\u001b[39m data_train\u001b[39m.\u001b[39mtargets\n\u001b[1;32m     <a href='vscode-notebook-cell:/Users/thomaszub/projects/machine-learning/ml-playground/MNIST/evolutional.ipynb#ch0000002?line=15'>16</a>\u001b[0m candidates\u001b[39m.\u001b[39mextend(\n\u001b[1;32m     <a href='vscode-notebook-cell:/Users/thomaszub/projects/machine-learning/ml-playground/MNIST/evolutional.ipynb#ch0000002?line=16'>17</a>\u001b[0m     [parent\u001b[39m.\u001b[39mchild(std_dev) \u001b[39mfor\u001b[39;00m parent \u001b[39min\u001b[39;00m candidates \u001b[39mfor\u001b[39;00m _ \u001b[39min\u001b[39;00m \u001b[39mrange\u001b[39m(mutation_per_parent)]\n\u001b[1;32m     <a href='vscode-notebook-cell:/Users/thomaszub/projects/machine-learning/ml-playground/MNIST/evolutional.ipynb#ch0000002?line=17'>18</a>\u001b[0m )\n\u001b[0;32m---> <a href='vscode-notebook-cell:/Users/thomaszub/projects/machine-learning/ml-playground/MNIST/evolutional.ipynb#ch0000002?line=18'>19</a>\u001b[0m eval_candidates \u001b[39m=\u001b[39m [(candidate, loss_function(candidate(X), y)\u001b[39m.\u001b[39mitem()) \u001b[39mfor\u001b[39;00m candidate \u001b[39min\u001b[39;00m candidates]\n\u001b[1;32m     <a href='vscode-notebook-cell:/Users/thomaszub/projects/machine-learning/ml-playground/MNIST/evolutional.ipynb#ch0000002?line=19'>20</a>\u001b[0m eval_candidates\u001b[39m.\u001b[39msort(key\u001b[39m=\u001b[39m\u001b[39mlambda\u001b[39;00m c: c[\u001b[39m1\u001b[39m])\n\u001b[1;32m     <a href='vscode-notebook-cell:/Users/thomaszub/projects/machine-learning/ml-playground/MNIST/evolutional.ipynb#ch0000002?line=21'>22</a>\u001b[0m candidates \u001b[39m=\u001b[39m \u001b[39mlist\u001b[39m(\u001b[39mmap\u001b[39m(\u001b[39mlambda\u001b[39;00m c: c[\u001b[39m0\u001b[39m], eval_candidates[\u001b[39m0\u001b[39m:num_parents]))\n",
      "\u001b[1;32m/Users/thomaszub/projects/machine-learning/ml-playground/MNIST/evolutional.ipynb Cell 3'\u001b[0m in \u001b[0;36m<listcomp>\u001b[0;34m(.0)\u001b[0m\n\u001b[1;32m     <a href='vscode-notebook-cell:/Users/thomaszub/projects/machine-learning/ml-playground/MNIST/evolutional.ipynb#ch0000002?line=14'>15</a>\u001b[0m y \u001b[39m=\u001b[39m data_train\u001b[39m.\u001b[39mtargets\n\u001b[1;32m     <a href='vscode-notebook-cell:/Users/thomaszub/projects/machine-learning/ml-playground/MNIST/evolutional.ipynb#ch0000002?line=15'>16</a>\u001b[0m candidates\u001b[39m.\u001b[39mextend(\n\u001b[1;32m     <a href='vscode-notebook-cell:/Users/thomaszub/projects/machine-learning/ml-playground/MNIST/evolutional.ipynb#ch0000002?line=16'>17</a>\u001b[0m     [parent\u001b[39m.\u001b[39mchild(std_dev) \u001b[39mfor\u001b[39;00m parent \u001b[39min\u001b[39;00m candidates \u001b[39mfor\u001b[39;00m _ \u001b[39min\u001b[39;00m \u001b[39mrange\u001b[39m(mutation_per_parent)]\n\u001b[1;32m     <a href='vscode-notebook-cell:/Users/thomaszub/projects/machine-learning/ml-playground/MNIST/evolutional.ipynb#ch0000002?line=17'>18</a>\u001b[0m )\n\u001b[0;32m---> <a href='vscode-notebook-cell:/Users/thomaszub/projects/machine-learning/ml-playground/MNIST/evolutional.ipynb#ch0000002?line=18'>19</a>\u001b[0m eval_candidates \u001b[39m=\u001b[39m [(candidate, loss_function(candidate(X), y)\u001b[39m.\u001b[39mitem()) \u001b[39mfor\u001b[39;00m candidate \u001b[39min\u001b[39;00m candidates]\n\u001b[1;32m     <a href='vscode-notebook-cell:/Users/thomaszub/projects/machine-learning/ml-playground/MNIST/evolutional.ipynb#ch0000002?line=19'>20</a>\u001b[0m eval_candidates\u001b[39m.\u001b[39msort(key\u001b[39m=\u001b[39m\u001b[39mlambda\u001b[39;00m c: c[\u001b[39m1\u001b[39m])\n\u001b[1;32m     <a href='vscode-notebook-cell:/Users/thomaszub/projects/machine-learning/ml-playground/MNIST/evolutional.ipynb#ch0000002?line=21'>22</a>\u001b[0m candidates \u001b[39m=\u001b[39m \u001b[39mlist\u001b[39m(\u001b[39mmap\u001b[39m(\u001b[39mlambda\u001b[39;00m c: c[\u001b[39m0\u001b[39m], eval_candidates[\u001b[39m0\u001b[39m:num_parents]))\n",
      "File \u001b[0;32m~/projects/machine-learning/ml-playground/.venv/lib/python3.9/site-packages/torch/nn/modules/module.py:1110\u001b[0m, in \u001b[0;36mModule._call_impl\u001b[0;34m(self, *input, **kwargs)\u001b[0m\n\u001b[1;32m   <a href='file:///Users/thomaszub/projects/machine-learning/ml-playground/.venv/lib/python3.9/site-packages/torch/nn/modules/module.py?line=1105'>1106</a>\u001b[0m \u001b[39m# If we don't have any hooks, we want to skip the rest of the logic in\u001b[39;00m\n\u001b[1;32m   <a href='file:///Users/thomaszub/projects/machine-learning/ml-playground/.venv/lib/python3.9/site-packages/torch/nn/modules/module.py?line=1106'>1107</a>\u001b[0m \u001b[39m# this function, and just call forward.\u001b[39;00m\n\u001b[1;32m   <a href='file:///Users/thomaszub/projects/machine-learning/ml-playground/.venv/lib/python3.9/site-packages/torch/nn/modules/module.py?line=1107'>1108</a>\u001b[0m \u001b[39mif\u001b[39;00m \u001b[39mnot\u001b[39;00m (\u001b[39mself\u001b[39m\u001b[39m.\u001b[39m_backward_hooks \u001b[39mor\u001b[39;00m \u001b[39mself\u001b[39m\u001b[39m.\u001b[39m_forward_hooks \u001b[39mor\u001b[39;00m \u001b[39mself\u001b[39m\u001b[39m.\u001b[39m_forward_pre_hooks \u001b[39mor\u001b[39;00m _global_backward_hooks\n\u001b[1;32m   <a href='file:///Users/thomaszub/projects/machine-learning/ml-playground/.venv/lib/python3.9/site-packages/torch/nn/modules/module.py?line=1108'>1109</a>\u001b[0m         \u001b[39mor\u001b[39;00m _global_forward_hooks \u001b[39mor\u001b[39;00m _global_forward_pre_hooks):\n\u001b[0;32m-> <a href='file:///Users/thomaszub/projects/machine-learning/ml-playground/.venv/lib/python3.9/site-packages/torch/nn/modules/module.py?line=1109'>1110</a>\u001b[0m     \u001b[39mreturn\u001b[39;00m forward_call(\u001b[39m*\u001b[39;49m\u001b[39minput\u001b[39;49m, \u001b[39m*\u001b[39;49m\u001b[39m*\u001b[39;49mkwargs)\n\u001b[1;32m   <a href='file:///Users/thomaszub/projects/machine-learning/ml-playground/.venv/lib/python3.9/site-packages/torch/nn/modules/module.py?line=1110'>1111</a>\u001b[0m \u001b[39m# Do not call functions when jit is used\u001b[39;00m\n\u001b[1;32m   <a href='file:///Users/thomaszub/projects/machine-learning/ml-playground/.venv/lib/python3.9/site-packages/torch/nn/modules/module.py?line=1111'>1112</a>\u001b[0m full_backward_hooks, non_full_backward_hooks \u001b[39m=\u001b[39m [], []\n",
      "\u001b[1;32m/Users/thomaszub/projects/machine-learning/ml-playground/MNIST/evolutional.ipynb Cell 2'\u001b[0m in \u001b[0;36mModel.forward\u001b[0;34m(self, x)\u001b[0m\n\u001b[1;32m     <a href='vscode-notebook-cell:/Users/thomaszub/projects/machine-learning/ml-playground/MNIST/evolutional.ipynb#ch0000001?line=19'>20</a>\u001b[0m \u001b[39mdef\u001b[39;00m \u001b[39mforward\u001b[39m(\u001b[39mself\u001b[39m, x):\n\u001b[0;32m---> <a href='vscode-notebook-cell:/Users/thomaszub/projects/machine-learning/ml-playground/MNIST/evolutional.ipynb#ch0000001?line=20'>21</a>\u001b[0m     \u001b[39mreturn\u001b[39;00m \u001b[39mself\u001b[39;49m\u001b[39m.\u001b[39;49m_model(\u001b[39mself\u001b[39;49m\u001b[39m.\u001b[39;49m_flatten(x))\n",
      "File \u001b[0;32m~/projects/machine-learning/ml-playground/.venv/lib/python3.9/site-packages/torch/nn/modules/module.py:1110\u001b[0m, in \u001b[0;36mModule._call_impl\u001b[0;34m(self, *input, **kwargs)\u001b[0m\n\u001b[1;32m   <a href='file:///Users/thomaszub/projects/machine-learning/ml-playground/.venv/lib/python3.9/site-packages/torch/nn/modules/module.py?line=1105'>1106</a>\u001b[0m \u001b[39m# If we don't have any hooks, we want to skip the rest of the logic in\u001b[39;00m\n\u001b[1;32m   <a href='file:///Users/thomaszub/projects/machine-learning/ml-playground/.venv/lib/python3.9/site-packages/torch/nn/modules/module.py?line=1106'>1107</a>\u001b[0m \u001b[39m# this function, and just call forward.\u001b[39;00m\n\u001b[1;32m   <a href='file:///Users/thomaszub/projects/machine-learning/ml-playground/.venv/lib/python3.9/site-packages/torch/nn/modules/module.py?line=1107'>1108</a>\u001b[0m \u001b[39mif\u001b[39;00m \u001b[39mnot\u001b[39;00m (\u001b[39mself\u001b[39m\u001b[39m.\u001b[39m_backward_hooks \u001b[39mor\u001b[39;00m \u001b[39mself\u001b[39m\u001b[39m.\u001b[39m_forward_hooks \u001b[39mor\u001b[39;00m \u001b[39mself\u001b[39m\u001b[39m.\u001b[39m_forward_pre_hooks \u001b[39mor\u001b[39;00m _global_backward_hooks\n\u001b[1;32m   <a href='file:///Users/thomaszub/projects/machine-learning/ml-playground/.venv/lib/python3.9/site-packages/torch/nn/modules/module.py?line=1108'>1109</a>\u001b[0m         \u001b[39mor\u001b[39;00m _global_forward_hooks \u001b[39mor\u001b[39;00m _global_forward_pre_hooks):\n\u001b[0;32m-> <a href='file:///Users/thomaszub/projects/machine-learning/ml-playground/.venv/lib/python3.9/site-packages/torch/nn/modules/module.py?line=1109'>1110</a>\u001b[0m     \u001b[39mreturn\u001b[39;00m forward_call(\u001b[39m*\u001b[39;49m\u001b[39minput\u001b[39;49m, \u001b[39m*\u001b[39;49m\u001b[39m*\u001b[39;49mkwargs)\n\u001b[1;32m   <a href='file:///Users/thomaszub/projects/machine-learning/ml-playground/.venv/lib/python3.9/site-packages/torch/nn/modules/module.py?line=1110'>1111</a>\u001b[0m \u001b[39m# Do not call functions when jit is used\u001b[39;00m\n\u001b[1;32m   <a href='file:///Users/thomaszub/projects/machine-learning/ml-playground/.venv/lib/python3.9/site-packages/torch/nn/modules/module.py?line=1111'>1112</a>\u001b[0m full_backward_hooks, non_full_backward_hooks \u001b[39m=\u001b[39m [], []\n",
      "File \u001b[0;32m~/projects/machine-learning/ml-playground/.venv/lib/python3.9/site-packages/torch/nn/modules/container.py:141\u001b[0m, in \u001b[0;36mSequential.forward\u001b[0;34m(self, input)\u001b[0m\n\u001b[1;32m    <a href='file:///Users/thomaszub/projects/machine-learning/ml-playground/.venv/lib/python3.9/site-packages/torch/nn/modules/container.py?line=138'>139</a>\u001b[0m \u001b[39mdef\u001b[39;00m \u001b[39mforward\u001b[39m(\u001b[39mself\u001b[39m, \u001b[39minput\u001b[39m):\n\u001b[1;32m    <a href='file:///Users/thomaszub/projects/machine-learning/ml-playground/.venv/lib/python3.9/site-packages/torch/nn/modules/container.py?line=139'>140</a>\u001b[0m     \u001b[39mfor\u001b[39;00m module \u001b[39min\u001b[39;00m \u001b[39mself\u001b[39m:\n\u001b[0;32m--> <a href='file:///Users/thomaszub/projects/machine-learning/ml-playground/.venv/lib/python3.9/site-packages/torch/nn/modules/container.py?line=140'>141</a>\u001b[0m         \u001b[39minput\u001b[39m \u001b[39m=\u001b[39m module(\u001b[39minput\u001b[39;49m)\n\u001b[1;32m    <a href='file:///Users/thomaszub/projects/machine-learning/ml-playground/.venv/lib/python3.9/site-packages/torch/nn/modules/container.py?line=141'>142</a>\u001b[0m     \u001b[39mreturn\u001b[39;00m \u001b[39minput\u001b[39m\n",
      "File \u001b[0;32m~/projects/machine-learning/ml-playground/.venv/lib/python3.9/site-packages/torch/nn/modules/module.py:1110\u001b[0m, in \u001b[0;36mModule._call_impl\u001b[0;34m(self, *input, **kwargs)\u001b[0m\n\u001b[1;32m   <a href='file:///Users/thomaszub/projects/machine-learning/ml-playground/.venv/lib/python3.9/site-packages/torch/nn/modules/module.py?line=1105'>1106</a>\u001b[0m \u001b[39m# If we don't have any hooks, we want to skip the rest of the logic in\u001b[39;00m\n\u001b[1;32m   <a href='file:///Users/thomaszub/projects/machine-learning/ml-playground/.venv/lib/python3.9/site-packages/torch/nn/modules/module.py?line=1106'>1107</a>\u001b[0m \u001b[39m# this function, and just call forward.\u001b[39;00m\n\u001b[1;32m   <a href='file:///Users/thomaszub/projects/machine-learning/ml-playground/.venv/lib/python3.9/site-packages/torch/nn/modules/module.py?line=1107'>1108</a>\u001b[0m \u001b[39mif\u001b[39;00m \u001b[39mnot\u001b[39;00m (\u001b[39mself\u001b[39m\u001b[39m.\u001b[39m_backward_hooks \u001b[39mor\u001b[39;00m \u001b[39mself\u001b[39m\u001b[39m.\u001b[39m_forward_hooks \u001b[39mor\u001b[39;00m \u001b[39mself\u001b[39m\u001b[39m.\u001b[39m_forward_pre_hooks \u001b[39mor\u001b[39;00m _global_backward_hooks\n\u001b[1;32m   <a href='file:///Users/thomaszub/projects/machine-learning/ml-playground/.venv/lib/python3.9/site-packages/torch/nn/modules/module.py?line=1108'>1109</a>\u001b[0m         \u001b[39mor\u001b[39;00m _global_forward_hooks \u001b[39mor\u001b[39;00m _global_forward_pre_hooks):\n\u001b[0;32m-> <a href='file:///Users/thomaszub/projects/machine-learning/ml-playground/.venv/lib/python3.9/site-packages/torch/nn/modules/module.py?line=1109'>1110</a>\u001b[0m     \u001b[39mreturn\u001b[39;00m forward_call(\u001b[39m*\u001b[39;49m\u001b[39minput\u001b[39;49m, \u001b[39m*\u001b[39;49m\u001b[39m*\u001b[39;49mkwargs)\n\u001b[1;32m   <a href='file:///Users/thomaszub/projects/machine-learning/ml-playground/.venv/lib/python3.9/site-packages/torch/nn/modules/module.py?line=1110'>1111</a>\u001b[0m \u001b[39m# Do not call functions when jit is used\u001b[39;00m\n\u001b[1;32m   <a href='file:///Users/thomaszub/projects/machine-learning/ml-playground/.venv/lib/python3.9/site-packages/torch/nn/modules/module.py?line=1111'>1112</a>\u001b[0m full_backward_hooks, non_full_backward_hooks \u001b[39m=\u001b[39m [], []\n",
      "File \u001b[0;32m~/projects/machine-learning/ml-playground/.venv/lib/python3.9/site-packages/torch/nn/modules/linear.py:103\u001b[0m, in \u001b[0;36mLinear.forward\u001b[0;34m(self, input)\u001b[0m\n\u001b[1;32m    <a href='file:///Users/thomaszub/projects/machine-learning/ml-playground/.venv/lib/python3.9/site-packages/torch/nn/modules/linear.py?line=101'>102</a>\u001b[0m \u001b[39mdef\u001b[39;00m \u001b[39mforward\u001b[39m(\u001b[39mself\u001b[39m, \u001b[39minput\u001b[39m: Tensor) \u001b[39m-\u001b[39m\u001b[39m>\u001b[39m Tensor:\n\u001b[0;32m--> <a href='file:///Users/thomaszub/projects/machine-learning/ml-playground/.venv/lib/python3.9/site-packages/torch/nn/modules/linear.py?line=102'>103</a>\u001b[0m     \u001b[39mreturn\u001b[39;00m F\u001b[39m.\u001b[39;49mlinear(\u001b[39minput\u001b[39;49m, \u001b[39mself\u001b[39;49m\u001b[39m.\u001b[39;49mweight, \u001b[39mself\u001b[39;49m\u001b[39m.\u001b[39;49mbias)\n",
      "\u001b[0;31mRuntimeError\u001b[0m: expected scalar type Float but found Byte"
     ]
    }
   ],
   "source": [
    "import torch\n",
    "from tqdm.notebook import trange\n",
    "\n",
    "\n",
    "torch.manual_seed(666)\n",
    "candidates = [Model() for _ in range(num_parents)]\n",
    "\n",
    "for epoch in trange(1, 2001, desc=\"Epoch\"):\n",
    "    candidates = train(candidates)\n",
    "    if epoch % 100 == 0:\n",
    "        model = candidates[0]\n",
    "        test(model)"
   ]
  }
 ],
 "metadata": {
  "interpreter": {
   "hash": "a6054d1dd935479306a74e50f347ede3643b15d93710fd47fc25576ff2d42d53"
  },
  "kernelspec": {
   "display_name": "Python 3.9.13 ('.venv': poetry)",
   "language": "python",
   "name": "python3"
  },
  "language_info": {
   "codemirror_mode": {
    "name": "ipython",
    "version": 3
   },
   "file_extension": ".py",
   "mimetype": "text/x-python",
   "name": "python",
   "nbconvert_exporter": "python",
   "pygments_lexer": "ipython3",
   "version": "3.9.13"
  }
 },
 "nbformat": 4,
 "nbformat_minor": 4
}
