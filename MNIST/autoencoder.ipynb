{
 "cells": [
  {
   "cell_type": "code",
   "execution_count": null,
   "metadata": {},
   "outputs": [],
   "source": [
    "import data\n",
    "import matplotlib.pyplot as plt\n",
    "\n",
    "\n",
    "loader_train, loader_test = data.get_dataloaders(32)\n",
    "plt.imshow(loader_train.dataset[2][0].squeeze(), cmap=\"gray_r\")"
   ]
  },
  {
   "cell_type": "code",
   "execution_count": null,
   "metadata": {},
   "outputs": [],
   "source": [
    "from torch import nn\n",
    "\n",
    "\n",
    "class AutoEncoder(nn.Module):\n",
    "\n",
    "    def __init__(self):\n",
    "        super(AutoEncoder, self).__init__()\n",
    "        self._flatten = nn.Flatten()\n",
    "        self._encoder = nn.Sequential(\n",
    "            nn.Linear(28*28, 512),\n",
    "            nn.ReLU(),\n",
    "            nn.Linear(512, 256),\n",
    "            nn.Sigmoid()\n",
    "        )\n",
    "        self._decoder = nn.Sequential(\n",
    "            nn.Linear(256, 28*28),\n",
    "            nn.Sigmoid()\n",
    "        )\n",
    "\n",
    "    def encode(self, x):\n",
    "        return self._encoder(self._flatten(x))\n",
    "\n",
    "    def decode(self, x):\n",
    "        return self._decoder(x).view(-1, 1, 28, 28)\n",
    "\n",
    "    def forward(self, x):\n",
    "        return self.decode(self.encode(x))\n",
    "\n",
    "\n",
    "autoEncoder = AutoEncoder()\n",
    "print(autoEncoder)"
   ]
  },
  {
   "cell_type": "code",
   "execution_count": null,
   "metadata": {},
   "outputs": [],
   "source": [
    "from torch import nn, optim\n",
    "from tqdm.notebook import tqdm\n",
    "\n",
    "\n",
    "loss_function = nn.MSELoss()\n",
    "optimizer = optim.Adam(autoEncoder.parameters())  \n",
    "\n",
    "def train():\n",
    "    with tqdm(desc=\"Batch\", total=len(loader_train)) as pbatch:\n",
    "        for (X, _) in loader_train:\n",
    "            pred = autoEncoder(X)\n",
    "            loss = loss_function(pred, X)\n",
    "            optimizer.zero_grad()\n",
    "            loss.backward()\n",
    "            optimizer.step()\n",
    "            pbatch.set_postfix(loss=loss.item())\n",
    "            pbatch.update()\n",
    "\n",
    "@torch.no_grad()\n",
    "def test():\n",
    "    test_loss = 0.0\n",
    "    for X, _ in loader_test:\n",
    "        pred = autoEncoder(X)\n",
    "        test_loss += loss_function(pred, X).item()\n",
    "    test_loss /= len(loader_test)\n",
    "    tqdm.write(f\"Test -> Loss: {test_loss}\")"
   ]
  },
  {
   "cell_type": "code",
   "execution_count": null,
   "metadata": {},
   "outputs": [],
   "source": [
    "import torch\n",
    "from tqdm.notebook import trange\n",
    "\n",
    "\n",
    "torch.manual_seed(666)\n",
    "\n",
    "for epoch in trange(1, 21, desc=\"Epoch\"):\n",
    "    train()\n",
    "    test()"
   ]
  },
  {
   "cell_type": "code",
   "execution_count": null,
   "metadata": {},
   "outputs": [],
   "source": [
    "import torch\n",
    "import matplotlib.pyplot as plt\n",
    "\n",
    "\n",
    "with torch.no_grad():\n",
    "    x_train_enc = autoEncoder.encode(loader_train.dataset[2][0])\n",
    "    x_train_dec = autoEncoder.decode(x_train_enc)\n",
    "\n",
    "    plt.imshow(x_train_dec.squeeze(), cmap=\"gray_r\")"
   ]
  }
 ],
 "metadata": {
  "kernelspec": {
   "display_name": "Python 3 (ipykernel)",
   "language": "python",
   "name": "python3"
  },
  "language_info": {
   "codemirror_mode": {
    "name": "ipython",
    "version": 3
   },
   "file_extension": ".py",
   "mimetype": "text/x-python",
   "name": "python",
   "nbconvert_exporter": "python",
   "pygments_lexer": "ipython3",
   "version": "3.9.10"
  }
 },
 "nbformat": 4,
 "nbformat_minor": 4
}
